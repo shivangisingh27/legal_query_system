{
  "nbformat": 4,
  "nbformat_minor": 0,
  "metadata": {
    "colab": {
      "provenance": []
    },
    "kernelspec": {
      "name": "python3",
      "display_name": "Python 3"
    },
    "language_info": {
      "name": "python"
    }
  },
  "cells": [
    {
      "cell_type": "markdown",
      "source": [
        "# Installing Libraries\n",
        "\n",
        "\n"
      ],
      "metadata": {
        "id": "RJs7zR6TTohr"
      }
    },
    {
      "cell_type": "code",
      "source": [
        "!apt install libpoppler-cpp-dev"
      ],
      "metadata": {
        "id": "nEDKZfs2TUSw",
        "colab": {
          "base_uri": "https://localhost:8080/"
        },
        "outputId": "f2906453-f5db-4e31-fb35-14798c46c069"
      },
      "execution_count": null,
      "outputs": [
        {
          "output_type": "stream",
          "name": "stdout",
          "text": [
            "Reading package lists... Done\n",
            "Building dependency tree... Done\n",
            "Reading state information... Done\n",
            "The following additional packages will be installed:\n",
            "  libpoppler-cpp0v5\n",
            "The following NEW packages will be installed:\n",
            "  libpoppler-cpp-dev libpoppler-cpp0v5\n",
            "0 upgraded, 2 newly installed, 0 to remove and 19 not upgraded.\n",
            "Need to get 50.4 kB of archives.\n",
            "After this operation, 231 kB of additional disk space will be used.\n",
            "Get:1 http://archive.ubuntu.com/ubuntu jammy-updates/main amd64 libpoppler-cpp0v5 amd64 22.02.0-2ubuntu0.2 [38.7 kB]\n",
            "Get:2 http://archive.ubuntu.com/ubuntu jammy-updates/main amd64 libpoppler-cpp-dev amd64 22.02.0-2ubuntu0.2 [11.8 kB]\n",
            "Fetched 50.4 kB in 0s (316 kB/s)\n",
            "Selecting previously unselected package libpoppler-cpp0v5:amd64.\n",
            "(Reading database ... 120874 files and directories currently installed.)\n",
            "Preparing to unpack .../libpoppler-cpp0v5_22.02.0-2ubuntu0.2_amd64.deb ...\n",
            "Unpacking libpoppler-cpp0v5:amd64 (22.02.0-2ubuntu0.2) ...\n",
            "Selecting previously unselected package libpoppler-cpp-dev:amd64.\n",
            "Preparing to unpack .../libpoppler-cpp-dev_22.02.0-2ubuntu0.2_amd64.deb ...\n",
            "Unpacking libpoppler-cpp-dev:amd64 (22.02.0-2ubuntu0.2) ...\n",
            "Setting up libpoppler-cpp0v5:amd64 (22.02.0-2ubuntu0.2) ...\n",
            "Setting up libpoppler-cpp-dev:amd64 (22.02.0-2ubuntu0.2) ...\n",
            "Processing triggers for libc-bin (2.35-0ubuntu3.1) ...\n",
            "/sbin/ldconfig.real: /usr/local/lib/libtbbmalloc_proxy.so.2 is not a symbolic link\n",
            "\n",
            "/sbin/ldconfig.real: /usr/local/lib/libtbbbind_2_0.so.3 is not a symbolic link\n",
            "\n",
            "/sbin/ldconfig.real: /usr/local/lib/libtbbmalloc.so.2 is not a symbolic link\n",
            "\n",
            "/sbin/ldconfig.real: /usr/local/lib/libtbb.so.12 is not a symbolic link\n",
            "\n",
            "/sbin/ldconfig.real: /usr/local/lib/libtbbbind_2_5.so.3 is not a symbolic link\n",
            "\n",
            "/sbin/ldconfig.real: /usr/local/lib/libtbbbind.so.3 is not a symbolic link\n",
            "\n"
          ]
        }
      ]
    },
    {
      "cell_type": "code",
      "source": [
        "!pip install pdftotext"
      ],
      "metadata": {
        "id": "EnHHRyvtTVs2",
        "colab": {
          "base_uri": "https://localhost:8080/"
        },
        "outputId": "f5a61277-7503-48bc-f086-f35a9b00b52f"
      },
      "execution_count": null,
      "outputs": [
        {
          "output_type": "stream",
          "name": "stdout",
          "text": [
            "Collecting pdftotext\n",
            "  Downloading pdftotext-2.2.2.tar.gz (113 kB)\n",
            "\u001b[?25l     \u001b[90m━━━━━━━━━━━━━━━━━━━━━━━━━━━━━━━━━━━━━━━━\u001b[0m \u001b[32m0.0/113.9 kB\u001b[0m \u001b[31m?\u001b[0m eta \u001b[36m-:--:--\u001b[0m\r\u001b[2K     \u001b[91m━━━━━━━━━━━━━━━━━━━━━━━━━━━━━━━━\u001b[0m\u001b[90m╺\u001b[0m\u001b[90m━━━━━━━\u001b[0m \u001b[32m92.2/113.9 kB\u001b[0m \u001b[31m2.5 MB/s\u001b[0m eta \u001b[36m0:00:01\u001b[0m\r\u001b[2K     \u001b[90m━━━━━━━━━━━━━━━━━━━━━━━━━━━━━━━━━━━━━━━━\u001b[0m \u001b[32m113.9/113.9 kB\u001b[0m \u001b[31m2.4 MB/s\u001b[0m eta \u001b[36m0:00:00\u001b[0m\n",
            "\u001b[?25h  Preparing metadata (setup.py) ... \u001b[?25l\u001b[?25hdone\n",
            "Building wheels for collected packages: pdftotext\n",
            "  Building wheel for pdftotext (setup.py) ... \u001b[?25l\u001b[?25hdone\n",
            "  Created wheel for pdftotext: filename=pdftotext-2.2.2-cp310-cp310-linux_x86_64.whl size=61846 sha256=4514cb3182a42a5e611af4e456aec621027b7678625446b7a6acb78e9b8e9b1d\n",
            "  Stored in directory: /root/.cache/pip/wheels/c8/68/c6/82a8c2046e1a8f9051017319dc007f43ef3a6edc53149d1f4e\n",
            "Successfully built pdftotext\n",
            "Installing collected packages: pdftotext\n",
            "Successfully installed pdftotext-2.2.2\n"
          ]
        }
      ]
    },
    {
      "cell_type": "code",
      "source": [
        "!pip install transformers\n",
        "!python -m nltk.downloader punkt\n",
        "!pip install sentencepiece\n"
      ],
      "metadata": {
        "id": "621A2hrhT7FB",
        "colab": {
          "base_uri": "https://localhost:8080/"
        },
        "outputId": "a6b0267d-0c72-45a5-f788-077b1beaf077"
      },
      "execution_count": null,
      "outputs": [
        {
          "output_type": "stream",
          "name": "stdout",
          "text": [
            "Collecting transformers\n",
            "  Downloading transformers-4.35.0-py3-none-any.whl (7.9 MB)\n",
            "\u001b[2K     \u001b[90m━━━━━━━━━━━━━━━━━━━━━━━━━━━━━━━━━━━━━━━━\u001b[0m \u001b[32m7.9/7.9 MB\u001b[0m \u001b[31m47.5 MB/s\u001b[0m eta \u001b[36m0:00:00\u001b[0m\n",
            "\u001b[?25hRequirement already satisfied: filelock in /usr/local/lib/python3.10/dist-packages (from transformers) (3.12.4)\n",
            "Collecting huggingface-hub<1.0,>=0.16.4 (from transformers)\n",
            "  Downloading huggingface_hub-0.18.0-py3-none-any.whl (301 kB)\n",
            "\u001b[2K     \u001b[90m━━━━━━━━━━━━━━━━━━━━━━━━━━━━━━━━━━━━━━━━\u001b[0m \u001b[32m302.0/302.0 kB\u001b[0m \u001b[31m38.2 MB/s\u001b[0m eta \u001b[36m0:00:00\u001b[0m\n",
            "\u001b[?25hRequirement already satisfied: numpy>=1.17 in /usr/local/lib/python3.10/dist-packages (from transformers) (1.23.5)\n",
            "Requirement already satisfied: packaging>=20.0 in /usr/local/lib/python3.10/dist-packages (from transformers) (23.2)\n",
            "Requirement already satisfied: pyyaml>=5.1 in /usr/local/lib/python3.10/dist-packages (from transformers) (6.0.1)\n",
            "Requirement already satisfied: regex!=2019.12.17 in /usr/local/lib/python3.10/dist-packages (from transformers) (2023.6.3)\n",
            "Requirement already satisfied: requests in /usr/local/lib/python3.10/dist-packages (from transformers) (2.31.0)\n",
            "Collecting tokenizers<0.15,>=0.14 (from transformers)\n",
            "  Downloading tokenizers-0.14.1-cp310-cp310-manylinux_2_17_x86_64.manylinux2014_x86_64.whl (3.8 MB)\n",
            "\u001b[2K     \u001b[90m━━━━━━━━━━━━━━━━━━━━━━━━━━━━━━━━━━━━━━━━\u001b[0m \u001b[32m3.8/3.8 MB\u001b[0m \u001b[31m103.6 MB/s\u001b[0m eta \u001b[36m0:00:00\u001b[0m\n",
            "\u001b[?25hCollecting safetensors>=0.3.1 (from transformers)\n",
            "  Downloading safetensors-0.4.0-cp310-cp310-manylinux_2_17_x86_64.manylinux2014_x86_64.whl (1.3 MB)\n",
            "\u001b[2K     \u001b[90m━━━━━━━━━━━━━━━━━━━━━━━━━━━━━━━━━━━━━━━━\u001b[0m \u001b[32m1.3/1.3 MB\u001b[0m \u001b[31m84.3 MB/s\u001b[0m eta \u001b[36m0:00:00\u001b[0m\n",
            "\u001b[?25hRequirement already satisfied: tqdm>=4.27 in /usr/local/lib/python3.10/dist-packages (from transformers) (4.66.1)\n",
            "Requirement already satisfied: fsspec>=2023.5.0 in /usr/local/lib/python3.10/dist-packages (from huggingface-hub<1.0,>=0.16.4->transformers) (2023.6.0)\n",
            "Requirement already satisfied: typing-extensions>=3.7.4.3 in /usr/local/lib/python3.10/dist-packages (from huggingface-hub<1.0,>=0.16.4->transformers) (4.5.0)\n",
            "Collecting huggingface-hub<1.0,>=0.16.4 (from transformers)\n",
            "  Downloading huggingface_hub-0.17.3-py3-none-any.whl (295 kB)\n",
            "\u001b[2K     \u001b[90m━━━━━━━━━━━━━━━━━━━━━━━━━━━━━━━━━━━━━━━━\u001b[0m \u001b[32m295.0/295.0 kB\u001b[0m \u001b[31m24.4 MB/s\u001b[0m eta \u001b[36m0:00:00\u001b[0m\n",
            "\u001b[?25hRequirement already satisfied: charset-normalizer<4,>=2 in /usr/local/lib/python3.10/dist-packages (from requests->transformers) (3.3.1)\n",
            "Requirement already satisfied: idna<4,>=2.5 in /usr/local/lib/python3.10/dist-packages (from requests->transformers) (3.4)\n",
            "Requirement already satisfied: urllib3<3,>=1.21.1 in /usr/local/lib/python3.10/dist-packages (from requests->transformers) (2.0.7)\n",
            "Requirement already satisfied: certifi>=2017.4.17 in /usr/local/lib/python3.10/dist-packages (from requests->transformers) (2023.7.22)\n",
            "Installing collected packages: safetensors, huggingface-hub, tokenizers, transformers\n",
            "Successfully installed huggingface-hub-0.17.3 safetensors-0.4.0 tokenizers-0.14.1 transformers-4.35.0\n",
            "/usr/lib/python3.10/runpy.py:126: RuntimeWarning: 'nltk.downloader' found in sys.modules after import of package 'nltk', but prior to execution of 'nltk.downloader'; this may result in unpredictable behaviour\n",
            "  warn(RuntimeWarning(msg))\n",
            "[nltk_data] Downloading package punkt to /root/nltk_data...\n",
            "[nltk_data]   Unzipping tokenizers/punkt.zip.\n",
            "Collecting sentencepiece\n",
            "  Downloading sentencepiece-0.1.99-cp310-cp310-manylinux_2_17_x86_64.manylinux2014_x86_64.whl (1.3 MB)\n",
            "\u001b[2K     \u001b[90m━━━━━━━━━━━━━━━━━━━━━━━━━━━━━━━━━━━━━━━━\u001b[0m \u001b[32m1.3/1.3 MB\u001b[0m \u001b[31m14.8 MB/s\u001b[0m eta \u001b[36m0:00:00\u001b[0m\n",
            "\u001b[?25hInstalling collected packages: sentencepiece\n",
            "Successfully installed sentencepiece-0.1.99\n"
          ]
        }
      ]
    },
    {
      "cell_type": "code",
      "source": [
        "pip install nltk"
      ],
      "metadata": {
        "id": "IA3haBnrUsHG",
        "colab": {
          "base_uri": "https://localhost:8080/"
        },
        "outputId": "54e93213-783e-489d-915a-d96d1b65155d"
      },
      "execution_count": null,
      "outputs": [
        {
          "output_type": "stream",
          "name": "stdout",
          "text": [
            "Requirement already satisfied: nltk in /usr/local/lib/python3.10/dist-packages (3.8.1)\n",
            "Requirement already satisfied: click in /usr/local/lib/python3.10/dist-packages (from nltk) (8.1.7)\n",
            "Requirement already satisfied: joblib in /usr/local/lib/python3.10/dist-packages (from nltk) (1.3.2)\n",
            "Requirement already satisfied: regex>=2021.8.3 in /usr/local/lib/python3.10/dist-packages (from nltk) (2023.6.3)\n",
            "Requirement already satisfied: tqdm in /usr/local/lib/python3.10/dist-packages (from nltk) (4.66.1)\n"
          ]
        }
      ]
    },
    {
      "cell_type": "markdown",
      "source": [
        "# Preprocessing"
      ],
      "metadata": {
        "id": "jkTJx0OLUFko"
      }
    },
    {
      "cell_type": "code",
      "source": [
        "import pdftotext\n",
        "import re\n",
        "\n",
        "class TextProcessingAndContextCreation :\n",
        "\n",
        "    @classmethod\n",
        "    def get_context_chunks(cls, file_name) :\n",
        "\n",
        "        raw_text = cls._get_raw_text_from_pdf(file_name)\n",
        "        first_page_number = cls._get_the_first_page_number(raw_text)\n",
        "        if first_page_number == -1 :\n",
        "            print(\"Error encountered\")\n",
        "            return []\n",
        "        raw_text = raw_text[first_page_number:]\n",
        "        cls._remove_header_of_first_page(raw_text)\n",
        "        cls._delete_footer_notes(raw_text)\n",
        "        cls._remove_captial_words(raw_text)\n",
        "        text = cls._join_all_pages(raw_text)\n",
        "        text = cls._split_the_text_on_bold_points(text)\n",
        "        cls._filter_and_get_plain_text(text)\n",
        "        # return text\n",
        "        contexts =  cls._get_the_contexts(text)\n",
        "        return contexts\n",
        "\n",
        "    @classmethod\n",
        "    def _get_raw_text_from_pdf(cls, file_name) :\n",
        "\n",
        "        with open(file_name, \"rb\") as f :\n",
        "            pdf_text = pdftotext.PDF(f)\n",
        "\n",
        "        raw_text = []\n",
        "        for i in pdf_text :\n",
        "            raw_text.append(str(i))\n",
        "        return raw_text\n",
        "\n",
        "    @classmethod\n",
        "    def _get_the_first_page_number(cls, raw_text) :\n",
        "\n",
        "        index = raw_text[0].split().index('ACT,')\n",
        "        match_text_page_zero = \" \".join(raw_text[0].split()[:index + 1])\n",
        "\n",
        "        for i in range(1, len(raw_text)) :\n",
        "            page_match_text = \" \".join(raw_text[i].split()[:index + 1])\n",
        "            if match_text_page_zero == page_match_text :\n",
        "                return i\n",
        "        return -1\n",
        "\n",
        "    @classmethod\n",
        "    def _remove_header_of_first_page(cls, raw_text) :\n",
        "\n",
        "        temp = re.match(r\"(.|\\n)*?\", raw_text[0])\n",
        "        raw_text[0] = raw_text[0][temp.end():]\n",
        "\n",
        "    @classmethod\n",
        "    def _delete_footer_notes(cls, raw_text) :\n",
        "\n",
        "        footer_regex = r\"1\\..*\"\n",
        "        for i in range(len(raw_text)) :\n",
        "            temp = raw_text[i].split('\\n')[:-2]\n",
        "            for j in range(len(temp) - 1, -1, -1) :\n",
        "                if re.match(footer_regex, temp[j]) is not None :\n",
        "                    break\n",
        "            if j != 0 :\n",
        "                temp = temp[:j]\n",
        "            raw_text[i] = \"\\n\".join(temp)\n",
        "\n",
        "    @classmethod\n",
        "    def _remove_captial_words(cls, raw_text) :\n",
        "\n",
        "        for i in range(len(raw_text)) :\n",
        "            raw_text[i] = raw_text[i].split('\\n')\n",
        "            raw_text[i] = list(filter(lambda x: not (x.isupper()), raw_text[i]))\n",
        "            raw_text[i] = \"\\n\".join(raw_text[i])\n",
        "\n",
        "    @classmethod\n",
        "    def _join_all_pages(cls, raw_text) :\n",
        "\n",
        "        concatenated_text = []\n",
        "        for i in raw_text :\n",
        "            concatenated_text.append(i)\n",
        "        concatenated_text = \"\\n\".join(concatenated_text)\n",
        "        return concatenated_text\n",
        "\n",
        "    @classmethod\n",
        "    def _split_the_text_on_bold_points(cls, text) :\n",
        "\n",
        "        split_regex = r\"[0-9]+[A-Z]*\\.[^\\n]\"\n",
        "        split_text = re.split(split_regex, text)\n",
        "        return split_text\n",
        "\n",
        "    @classmethod\n",
        "    def _filter_and_get_plain_text(cls, text) :\n",
        "\n",
        "        for i in range(len(text)) :\n",
        "            text[i] = re.sub(r\"(“|”|’)\", \"\\\"\", text[i])\n",
        "            text[i] = re.sub(r\"\\n\", \" \", text[i])\n",
        "            text[i] = re.sub(r\" +\", \" \", text[i])\n",
        "            text[i] = re.sub(r\"—\", \"- \", text[i])\n",
        "\n",
        "    @classmethod\n",
        "    def _get_the_contexts(cls, text) :\n",
        "\n",
        "        contexts = []\n",
        "        for i in range(len(text)) :\n",
        "            if (len(text[i].split()) > 10 and len(text[i].split()) <= 512) :\n",
        "                contexts.append(text[i])\n",
        "            else :\n",
        "                temp = cls._get_contexts_greater_than_max_size(text[i])\n",
        "                for i in temp :\n",
        "                    contexts.append(\" \".join(i))\n",
        "\n",
        "        return contexts\n",
        "\n",
        "    @classmethod\n",
        "    def _get_contexts_greater_than_max_size(cls, text) :\n",
        "\n",
        "        ROMAN_NUMERALS = ['i', 'ii', 'iii', 'iv', 'v', 'vi', 'vii', 'viii', 'ix', 'x', \\\n",
        "                          'xi', 'xii', 'xiii', 'xiv', 'xv', 'xvi', 'xvii', 'xviii', 'xix', 'xx', \\\n",
        "                          'xxi', 'xxii', 'xxiii', 'xxiv', 'xxv', 'xxvi', 'xxvii', 'xxviii', 'xxix', 'xxx']\n",
        "        level_wise_regex = [r\"[0-9]+\", r\"[a-z]\", r\"\\((\" + \"|\".join(ROMAN_NUMERALS) + r\")\\)\" , r\"[A-Z]\"]\n",
        "\n",
        "\n",
        "        punctuations = \",-.:;\"\n",
        "        end_markers = \".\"\n",
        "        current_index = 0\n",
        "        regex_match_flag = 0\n",
        "        max_context_length = 0\n",
        "\n",
        "        contexts = []\n",
        "        text = text.split()\n",
        "\n",
        "        while (current_index < len(text)) :\n",
        "\n",
        "            regex_match_flag = 0\n",
        "            max_context_length = min(current_index + 512, len(text))\n",
        "            context = text[current_index:max_context_length]\n",
        "            if max_context_length == len(text) :\n",
        "                contexts.append(context)\n",
        "                current_index += len(context)\n",
        "            else :\n",
        "                i = len(context) - 1\n",
        "                while i > (len(context) // 2) :\n",
        "                    if (re.match(level_wise_regex[0], context[i]) is not None) :\n",
        "                        print(\"First Matched\")\n",
        "                    if (re.match(level_wise_regex[1], context[i]) is not None) :\n",
        "                        print(\"Second Matched\")\n",
        "                    if (re.match(level_wise_regex[2], context[i]) is not None) :\n",
        "                        print(\"Third Matched\")\n",
        "                    if (re.match(level_wise_regex[3], context[i]) is not None) :\n",
        "                        print(\"Fourth Matched\")\n",
        "\n",
        "                    # if (re.match(level_wise_regex[0], context[i]) is not None) or \\\n",
        "                    #     (re.match(level_wise_regex[1], context[i]) is not None) or \\\n",
        "                    #     (re.match(level_wise_regex[2], context[i]) is not None) or \\\n",
        "                    #     (re.match(level_wise_regex[3], context[i]) is not None) :\n",
        "                    #     if i != 0 and context[i-1][-1] in punctuations :\n",
        "                    #         context = context[:i]\n",
        "                    #         contexts.append(context)\n",
        "                    #         current_index += i\n",
        "                    #         regex_match_flag = 1\n",
        "                    #         break\n",
        "                    # i -= 1\n",
        "\n",
        "                if not regex_match_flag :\n",
        "                    i = len(context) - 1\n",
        "                    while (i > 0) :\n",
        "                        if context[i][-1] in end_markers :\n",
        "                            context = context[:i + 1]\n",
        "                            contexts.append(context)\n",
        "                            current_index += (i + 1)\n",
        "                            break\n",
        "                        i -= 1\n",
        "\n",
        "            if len(contexts[-1]) <= 10 :\n",
        "                del contexts[-1]\n",
        "\n",
        "        return contexts"
      ],
      "metadata": {
        "id": "If7Rh2ImUHoc"
      },
      "execution_count": null,
      "outputs": []
    },
    {
      "cell_type": "code",
      "source": [
        "legal_doc=\"/content/drive/MyDrive/Colab Notebooks/NLP PROJECT/legal_docs/A1897-03.pdf\""
      ],
      "metadata": {
        "id": "CtSqz7fyUTj2"
      },
      "execution_count": null,
      "outputs": []
    },
    {
      "cell_type": "code",
      "source": [
        "from google.colab import drive\n",
        "drive.mount('/content/drive')"
      ],
      "metadata": {
        "colab": {
          "base_uri": "https://localhost:8080/"
        },
        "id": "OTiOwNpTzk3h",
        "outputId": "3e1fc726-e0db-4f84-9615-828770c2a500"
      },
      "execution_count": null,
      "outputs": [
        {
          "output_type": "stream",
          "name": "stdout",
          "text": [
            "Mounted at /content/drive\n"
          ]
        }
      ]
    },
    {
      "cell_type": "code",
      "source": [
        "contexts2=TextProcessingAndContextCreation.get_context_chunks(legal_doc)"
      ],
      "metadata": {
        "id": "rC7u1sAXUfA-"
      },
      "execution_count": null,
      "outputs": []
    },
    {
      "cell_type": "code",
      "source": [],
      "metadata": {
        "id": "PwUEYhyv6Qnr"
      },
      "execution_count": null,
      "outputs": []
    },
    {
      "cell_type": "code",
      "source": [
        "contexts2"
      ],
      "metadata": {
        "colab": {
          "base_uri": "https://localhost:8080/"
        },
        "id": "bfa-K8QKUf5R",
        "outputId": "71260ca4-6d76-437a-a7a1-60057d05d328"
      },
      "execution_count": null,
      "outputs": [
        {
          "output_type": "execute_result",
          "data": {
            "text/plain": [
              "[' An Act to provide for the better prevention of the spread of Dangerous Epidemic Diseases. WHEREAS it is expedient to provide for the better prevention of the spread of dangerous epidemic disease; It is hereby enacted as follows :-  ',\n",
              " 'Short title and extent.- (1) This Act may be called the Epidemic Diseases Act, 1897. 2 [(2) It extends to the whole of India 3***] 4* * * 5 * * * [',\n",
              " 'Definitions.- In this, unless the context otherwise requires,-  * * 6 (a) \"act of violence\" includes any of the following acts committed by any person against a healthcare service personnel serving during an epidemic, which causes or may cause -  (i) harassment impacting the living or working conditions of such healthcare service personnel and preventing him from discharging his duties; (ii) harm, injury, hurt, intimidation or danger to the life of such healthcare service personnel, either within the premises of a clinical establishment or otherwise; (iii) obstruction or hindrance to such healthcare service personnel in the discharge of his duties, either within the premises of a clinical establishment or otherwise; or (iv) loss or damage to any property or documents in the custody of, or in relation to, such healthcare service personnel; (b) \"healthcare service personnel\" means a person who while carrying out his duties in relation to epidemic related responsibilities, may come in direct contact with affected patients and thereby is at the risk of being impacted by suc h disease, and includes-  (i) any public and clinical healthcare provider such as doctor, nurse, paramedical worker and community health worker; (ii) any other person empowered under the Act to take measures to prevent the outbreak of the disease or spread thereof; and (iii) any person declared as such by the State Government, by notification in the Official Gazette; (c) \"property\" includes-  (i) a clinical establishment as defined in the Clinical Establishments (Registration and Regulation) Act, 2010 (23 of 2010); (ii) any facility identified for quarantine and isolation of patients during an epidemic; (iii) a mobile medical unit; and (iv) any other property in which a healthcare service personnel has direct interest in relating to the epidemic; (d) the words and expressions used herein and not defined, but defined in the Indian Ports Act, 1908 (15 of 1908), the Aircraft Act, 1934 (22 of 1934) or the Land Ports Authority of India Act, 2010 (31 of 2010), as the case may be, shall have the same meaning as assign ed to them in that Act.] 1 [',\n",
              " 'Power to take special measures and prescribe regulations as to dangerous epidemic disease.- (1) When at any time the 2[State Government] is satisfied that 2[the State] or any part thereof is visited by, or threatened with, an outbreak of any dangerous epidemic disease, the 3[State Government], if 4[it] thinks that the ordinary provisions of the law for the time being in force are insufficient for the purpose, may take, or require or empower any person to take, such measures and, by public notice, prescribe such temporary regulations to be observed by the public or by any person or class of persons as 4[it] shall deem necessary to prevent the outbreak of such disease or the spread thereof, and may determine in what manner and by whom any expenses incurred (including compensation if any) shall be defrayed. (2) In particular and without prejudice to the generality of the foregoing provisions, the 2[State Government] may take measures and prescribe regulations for-  5 * * * * * (b) the inspection of persons travelling by railway or otherwise, and the segregation, in hospital, temporary accommodation or otherwise, of persons suspected by the inspecting officer of being infected with any such disease. 6 * * * * 7 * [',\n",
              " 'Powers of Central Government.- When the Central Government is satisfied that India or any part thereof is visited by, or threatened with, an outbrea k of any dangerous epidemic disease and that the ordinary provisions of the law for the time being in force are insufficient to prevent the outbreak of such disease or the spread thereof, 8[the Central Government may take such measures, as it deems fit and prescribe regulations for the inspection of any bus o r train or goods vehicle or ship or vessel or aircraft leaving or arriving at any land port or aerodrome, as the case may be, in the territories to which this Act extends and for such detention thereof, or of any person intending to travel therein, or arriving thereby, as may be necessary.] 1 [',\n",
              " 'Prohibition of violence against healthcare service personnel and damage to property.- No person shall indulge in any act of violence against a healthcare service personnel or cause any damage or loss to any property during an epidemic.] ',\n",
              " 'Penalty.-  2[(1)] Any person disobeying any regulation or order made under this Act shall be deemed to have committed an offence punishable under section 188 of the Indian Penal Code (45 of 1860). 3 [(2) Whoever,-  (i) commits or abets the commission of an act of violence against a healthcare service personnel; or (ii) abets or cause damage or loss to any property, shall be punished with imprisonment for a term which shall not be less than three months, but which may extend to five years, and with fine, which shall not be less than fifty thousand rupees, but which may extend to two lakh rupees. (3) Whoever, while committing an act of violence against a healthcare service personnel, causes grievous hurt as defined in section 320 of the Indian Penal Code (45 of 1860) to such person, shall be punished with imprisonment for a term which shall not be less than six months, but which may extend to seven years and with fine, which shall not be less than one lakh rupees, but which may extend to five lakh rupees.] 4 [',\n",
              " 'Cognizance, investigation and trial of offences .- Notwithstanding anything contained in the Code of Criminal Procedure, 1973 (2 of 1974), -  (i) an offence punishable under sub-section (2) or sub-section (3) of section 3 shall be cognizable and non-bailable; (ii) any case registered under sub-section (2) or sub-section (3) of section 3 shall be investigated by a police officer not below the rank of Inspector; (iii) investigation of a case under sub-section (2) or sub-section (3) of section 3 shall be completed within a period of thirty days from the date of registration of the First Information Report; (iv) in every inquiry or trial of a case under sub -section (2) or sub-section (3) of section 3, the proceedings shall be held as expeditiously as possible, and in particular, when the examination of witnesses has once begun, the same shall be continued from day to day until all the witnessed in attendance have been examined, unless the Court finds the adjournment of the same beyond the following day to be necessary for reasons to be recorded, and an endeavor shall be made to ensure that the inquiry or trial is concluded within a period of one year: Provided that where the trial is not concluded within the said period, the Judge shall record the reasons for not having done so: Provided further that the said period may be extended by such further period, for reasons to be recorded in writing, but not exceeding six months at a time. ',\n",
              " 'Composition of certain offences .- Where a person is prosecuted for committing an offence punishable under sub-section (2) of section 3, such offence may, with the permission of the Court, be compounded by the person against whom such act of violence is committed. ',\n",
              " 'Presumption as to certain offences.- Where a person is prosecuted for committing an offence punishable under sub-section (3) of section 3, the Court shall presume that such person has committed such offence, unless the contrary is proved. ',\n",
              " 'Presumption of culpable mental state.- (1) In any prosecution for an offence under sub-section (3) of section 3 which requires a culpable mental state on the part of the accused, the Court shall presume the existence of such mental state, but it shall be a defence for the accused to prove the fact that he had no such mental state with respect to the act charged as an offence in that prosecution. (2) For the purposes of this section, a fact is said to be proved only when the Court believes it to exist beyond reasonable doubt and not merely when its existenc e is established by a preponderance of probability. Explanation.- In this section, \"culpable mental state\" includes intention, motive, knowledge of a fact and the belief in, or reason to believe, a fact. ',\n",
              " 'Compensation for acts of violence.- (1) In addition to the punishment provided for an offence under sub-section (2) or sub-section (3) of section 3, the person so convicted shall also be liable to pay, by way of compensation, such amount, as may be determined by the Court for causing hurt or grievous hurt to any healthcare service personnel. (2) Notwithstanding the composition of an offence under section 3B, in case of damage to any property or loss caused, the compensation payable shall be twice the amount of fair market value of the damaged property or t he loss caused, as may be determined by the Court. (3) Upon failure to pay the compensation awarded under sub-sections (1) and (2), such amount shall be recovered as an arrear of land revenue under the Revenue Recovery Act, 1890 (1 of 1890).] ',\n",
              " 'Protection to persons acting under Act.- No suit or other legal proceeding shall lie against any person for anything done or in good faith intended to be done under this Act. __________ 5']"
            ]
          },
          "metadata": {},
          "execution_count": 10
        }
      ]
    },
    {
      "cell_type": "code",
      "source": [
        "pip install -U gensim"
      ],
      "metadata": {
        "colab": {
          "base_uri": "https://localhost:8080/"
        },
        "id": "ZYZsSrmJ6CEm",
        "outputId": "001924fb-b4ac-45b7-b4b8-dba0ad6dc880"
      },
      "execution_count": null,
      "outputs": [
        {
          "output_type": "stream",
          "name": "stdout",
          "text": [
            "Requirement already satisfied: gensim in /usr/local/lib/python3.10/dist-packages (4.3.2)\n",
            "Requirement already satisfied: numpy>=1.18.5 in /usr/local/lib/python3.10/dist-packages (from gensim) (1.23.5)\n",
            "Requirement already satisfied: scipy>=1.7.0 in /usr/local/lib/python3.10/dist-packages (from gensim) (1.11.3)\n",
            "Requirement already satisfied: smart-open>=1.8.1 in /usr/local/lib/python3.10/dist-packages (from gensim) (6.4.0)\n"
          ]
        }
      ]
    },
    {
      "cell_type": "code",
      "source": [],
      "metadata": {
        "id": "BWVn6PPg6STF"
      },
      "execution_count": null,
      "outputs": []
    },
    {
      "cell_type": "code",
      "source": [
        "text = \" \".join(contexts2)"
      ],
      "metadata": {
        "id": "mOQpR2iv6RYR"
      },
      "execution_count": null,
      "outputs": []
    },
    {
      "cell_type": "code",
      "source": [
        "import nltk\n",
        "nltk.download('punkt')\n",
        "tokens = nltk.sent_tokenize(text)\n",
        "for t in tokens:\n",
        "    print(t, \"\\n\")"
      ],
      "metadata": {
        "colab": {
          "base_uri": "https://localhost:8080/"
        },
        "id": "gtwqVbOn6JO6",
        "outputId": "6e872a1e-f17c-48b0-a49f-50543fdf6f34"
      },
      "execution_count": null,
      "outputs": [
        {
          "output_type": "stream",
          "name": "stdout",
          "text": [
            " An Act to provide for the better prevention of the spread of Dangerous Epidemic Diseases. \n",
            "\n",
            "WHEREAS it is expedient to provide for the better prevention of the spread of dangerous epidemic disease; It is hereby enacted as follows :-   Short title and extent.- (1) This Act may be called the Epidemic Diseases Act, 1897. \n",
            "\n",
            "2 [(2) It extends to the whole of India 3***] 4* * * 5 * * * [ Definitions.- In this, unless the context otherwise requires,-  * * 6 (a) \"act of violence\" includes any of the following acts committed by any person against a healthcare service personnel serving during an epidemic, which causes or may cause -  (i) harassment impacting the living or working conditions of such healthcare service personnel and preventing him from discharging his duties; (ii) harm, injury, hurt, intimidation or danger to the life of such healthcare service personnel, either within the premises of a clinical establishment or otherwise; (iii) obstruction or hindrance to such healthcare service personnel in the discharge of his duties, either within the premises of a clinical establishment or otherwise; or (iv) loss or damage to any property or documents in the custody of, or in relation to, such healthcare service personnel; (b) \"healthcare service personnel\" means a person who while carrying out his duties in relation to epidemic related responsibilities, may come in direct contact with affected patients and thereby is at the risk of being impacted by suc h disease, and includes-  (i) any public and clinical healthcare provider such as doctor, nurse, paramedical worker and community health worker; (ii) any other person empowered under the Act to take measures to prevent the outbreak of the disease or spread thereof; and (iii) any person declared as such by the State Government, by notification in the Official Gazette; (c) \"property\" includes-  (i) a clinical establishment as defined in the Clinical Establishments (Registration and Regulation) Act, 2010 (23 of 2010); (ii) any facility identified for quarantine and isolation of patients during an epidemic; (iii) a mobile medical unit; and (iv) any other property in which a healthcare service personnel has direct interest in relating to the epidemic; (d) the words and expressions used herein and not defined, but defined in the Indian Ports Act, 1908 (15 of 1908), the Aircraft Act, 1934 (22 of 1934) or the Land Ports Authority of India Act, 2010 (31 of 2010), as the case may be, shall have the same meaning as assign ed to them in that Act.] \n",
            "\n",
            "1 [ Power to take special measures and prescribe regulations as to dangerous epidemic disease.- (1) When at any time the 2[State Government] is satisfied that 2[the State] or any part thereof is visited by, or threatened with, an outbreak of any dangerous epidemic disease, the 3[State Government], if 4[it] thinks that the ordinary provisions of the law for the time being in force are insufficient for the purpose, may take, or require or empower any person to take, such measures and, by public notice, prescribe such temporary regulations to be observed by the public or by any person or class of persons as 4[it] shall deem necessary to prevent the outbreak of such disease or the spread thereof, and may determine in what manner and by whom any expenses incurred (including compensation if any) shall be defrayed. \n",
            "\n",
            "(2) In particular and without prejudice to the generality of the foregoing provisions, the 2[State Government] may take measures and prescribe regulations for-  5 * * * * * (b) the inspection of persons travelling by railway or otherwise, and the segregation, in hospital, temporary accommodation or otherwise, of persons suspected by the inspecting officer of being infected with any such disease. \n",
            "\n",
            "6 * * * * 7 * [ Powers of Central Government.- When the Central Government is satisfied that India or any part thereof is visited by, or threatened with, an outbrea k of any dangerous epidemic disease and that the ordinary provisions of the law for the time being in force are insufficient to prevent the outbreak of such disease or the spread thereof, 8[the Central Government may take such measures, as it deems fit and prescribe regulations for the inspection of any bus o r train or goods vehicle or ship or vessel or aircraft leaving or arriving at any land port or aerodrome, as the case may be, in the territories to which this Act extends and for such detention thereof, or of any person intending to travel therein, or arriving thereby, as may be necessary.] \n",
            "\n",
            "1 [ Prohibition of violence against healthcare service personnel and damage to property.- No person shall indulge in any act of violence against a healthcare service personnel or cause any damage or loss to any property during an epidemic.] \n",
            "\n",
            "Penalty.-  2[(1)] Any person disobeying any regulation or order made under this Act shall be deemed to have committed an offence punishable under section 188 of the Indian Penal Code (45 of 1860). \n",
            "\n",
            "3 [(2) Whoever,-  (i) commits or abets the commission of an act of violence against a healthcare service personnel; or (ii) abets or cause damage or loss to any property, shall be punished with imprisonment for a term which shall not be less than three months, but which may extend to five years, and with fine, which shall not be less than fifty thousand rupees, but which may extend to two lakh rupees. \n",
            "\n",
            "(3) Whoever, while committing an act of violence against a healthcare service personnel, causes grievous hurt as defined in section 320 of the Indian Penal Code (45 of 1860) to such person, shall be punished with imprisonment for a term which shall not be less than six months, but which may extend to seven years and with fine, which shall not be less than one lakh rupees, but which may extend to five lakh rupees.] \n",
            "\n",
            "4 [ Cognizance, investigation and trial of offences .- Notwithstanding anything contained in the Code of Criminal Procedure, 1973 (2 of 1974), -  (i) an offence punishable under sub-section (2) or sub-section (3) of section 3 shall be cognizable and non-bailable; (ii) any case registered under sub-section (2) or sub-section (3) of section 3 shall be investigated by a police officer not below the rank of Inspector; (iii) investigation of a case under sub-section (2) or sub-section (3) of section 3 shall be completed within a period of thirty days from the date of registration of the First Information Report; (iv) in every inquiry or trial of a case under sub -section (2) or sub-section (3) of section 3, the proceedings shall be held as expeditiously as possible, and in particular, when the examination of witnesses has once begun, the same shall be continued from day to day until all the witnessed in attendance have been examined, unless the Court finds the adjournment of the same beyond the following day to be necessary for reasons to be recorded, and an endeavor shall be made to ensure that the inquiry or trial is concluded within a period of one year: Provided that where the trial is not concluded within the said period, the Judge shall record the reasons for not having done so: Provided further that the said period may be extended by such further period, for reasons to be recorded in writing, but not exceeding six months at a time. \n",
            "\n",
            "Composition of certain offences .- Where a person is prosecuted for committing an offence punishable under sub-section (2) of section 3, such offence may, with the permission of the Court, be compounded by the person against whom such act of violence is committed. \n",
            "\n",
            "Presumption as to certain offences.- Where a person is prosecuted for committing an offence punishable under sub-section (3) of section 3, the Court shall presume that such person has committed such offence, unless the contrary is proved. \n",
            "\n",
            "Presumption of culpable mental state.- (1) In any prosecution for an offence under sub-section (3) of section 3 which requires a culpable mental state on the part of the accused, the Court shall presume the existence of such mental state, but it shall be a defence for the accused to prove the fact that he had no such mental state with respect to the act charged as an offence in that prosecution. \n",
            "\n",
            "(2) For the purposes of this section, a fact is said to be proved only when the Court believes it to exist beyond reasonable doubt and not merely when its existenc e is established by a preponderance of probability. \n",
            "\n",
            "Explanation.- In this section, \"culpable mental state\" includes intention, motive, knowledge of a fact and the belief in, or reason to believe, a fact. \n",
            "\n",
            "Compensation for acts of violence.- (1) In addition to the punishment provided for an offence under sub-section (2) or sub-section (3) of section 3, the person so convicted shall also be liable to pay, by way of compensation, such amount, as may be determined by the Court for causing hurt or grievous hurt to any healthcare service personnel. \n",
            "\n",
            "(2) Notwithstanding the composition of an offence under section 3B, in case of damage to any property or loss caused, the compensation payable shall be twice the amount of fair market value of the damaged property or t he loss caused, as may be determined by the Court. \n",
            "\n",
            "(3) Upon failure to pay the compensation awarded under sub-sections (1) and (2), such amount shall be recovered as an arrear of land revenue under the Revenue Recovery Act, 1890 (1 of 1890).] \n",
            "\n",
            "Protection to persons acting under Act.- No suit or other legal proceeding shall lie against any person for anything done or in good faith intended to be done under this Act. \n",
            "\n",
            "__________ 5 \n",
            "\n"
          ]
        },
        {
          "output_type": "stream",
          "name": "stderr",
          "text": [
            "[nltk_data] Downloading package punkt to /root/nltk_data...\n",
            "[nltk_data]   Package punkt is already up-to-date!\n"
          ]
        }
      ]
    },
    {
      "cell_type": "code",
      "source": [],
      "metadata": {
        "id": "9d_yz8P56Xbx"
      },
      "execution_count": null,
      "outputs": []
    },
    {
      "cell_type": "code",
      "source": [
        "import re\n",
        "import gensim\n",
        "from gensim.parsing.preprocessing import remove_stopwords\n",
        "\n",
        "def clean_sentence(sentence, stopwords=False):\n",
        "  sentence = sentence.lower().strip()\n",
        "  sentence = re.sub(r'[^a-z0-9\\s]', '', sentence)\n",
        "  if stopwords:\n",
        "    sentence = remove_stopwords(sentence)\n",
        "  return sentence\n",
        "\n",
        "def get_cleaned_sentences(tokens, stopwords=False):\n",
        "  cleaned_sentences = []\n",
        "  for row in tokens:\n",
        "    cleaned = clean_sentence(row, stopwords)\n",
        "    cleaned_sentences.append(cleaned)\n",
        "  return cleaned_sentences"
      ],
      "metadata": {
        "id": "GTlIx1mU6D1l"
      },
      "execution_count": null,
      "outputs": []
    },
    {
      "cell_type": "code",
      "source": [
        "cleaned_sentences = get_cleaned_sentences(tokens, stopwords=True)\n",
        "cleaned_sentences_with_stopwords = get_cleaned_sentences(tokens, stopwords=False)\n",
        "print(cleaned_sentences)\n",
        "print(cleaned_sentences_with_stopwords)"
      ],
      "metadata": {
        "colab": {
          "base_uri": "https://localhost:8080/"
        },
        "id": "9K9t_Rda6DyL",
        "outputId": "b9e58e80-6c5c-44f8-cac0-4afe35d37048"
      },
      "execution_count": null,
      "outputs": [
        {
          "output_type": "stream",
          "name": "stdout",
          "text": [
            "['act provide better prevention spread dangerous epidemic diseases', 'expedient provide better prevention spread dangerous epidemic disease enacted follows short title extent 1 act called epidemic diseases act 1897', '2 2 extends india 3 4 5 definitions context requires 6 act violence includes following acts committed person healthcare service personnel serving epidemic causes cause harassment impacting living working conditions healthcare service personnel preventing discharging duties ii harm injury hurt intimidation danger life healthcare service personnel premises clinical establishment iii obstruction hindrance healthcare service personnel discharge duties premises clinical establishment iv loss damage property documents custody relation healthcare service personnel b healthcare service personnel means person carrying duties relation epidemic related responsibilities come direct contact affected patients risk impacted suc h disease includes public clinical healthcare provider doctor nurse paramedical worker community health worker ii person empowered act measures prevent outbreak disease spread thereof iii person declared state government notification official gazette c property includes clinical establishment defined clinical establishments registration regulation act 2010 23 2010 ii facility identified quarantine isolation patients epidemic iii mobile medical unit iv property healthcare service personnel direct relating epidemic d words expressions defined defined indian ports act 1908 15 1908 aircraft act 1934 22 1934 land ports authority india act 2010 31 2010 case shall meaning assign ed act', '1 power special measures prescribe regulations dangerous epidemic disease 1 time 2state government satisfied 2the state thereof visited threatened outbreak dangerous epidemic disease 3state government 4it thinks ordinary provisions law time force insufficient purpose require empower person measures public notice prescribe temporary regulations observed public person class persons 4it shall deem necessary prevent outbreak disease spread thereof determine manner expenses incurred including compensation shall defrayed', '2 particular prejudice generality foregoing provisions 2state government measures prescribe regulations 5 b inspection persons travelling railway segregation hospital temporary accommodation persons suspected inspecting officer infected disease', '6 7 powers central government central government satisfied india thereof visited threatened outbrea k dangerous epidemic disease ordinary provisions law time force insufficient prevent outbreak disease spread thereof 8the central government measures deems fit prescribe regulations inspection bus o r train goods vehicle ship vessel aircraft leaving arriving land port aerodrome case territories act extends detention thereof person intending travel arriving necessary', '1 prohibition violence healthcare service personnel damage property person shall indulge act violence healthcare service personnel cause damage loss property epidemic', 'penalty 21 person disobeying regulation order act shall deemed committed offence punishable section 188 indian penal code 45 1860', '3 2 commits abets commission act violence healthcare service personnel ii abets cause damage loss property shall punished imprisonment term shall months extend years fine shall thousand rupees extend lakh rupees', '3 committing act violence healthcare service personnel causes grievous hurt defined section 320 indian penal code 45 1860 person shall punished imprisonment term shall months extend seven years fine shall lakh rupees extend lakh rupees', '4 cognizance investigation trial offences notwithstanding contained code criminal procedure 1973 2 1974 offence punishable subsection 2 subsection 3 section 3 shall cognizable nonbailable ii case registered subsection 2 subsection 3 section 3 shall investigated police officer rank inspector iii investigation case subsection 2 subsection 3 section 3 shall completed period thirty days date registration information report iv inquiry trial case sub section 2 subsection 3 section 3 proceedings shall held expeditiously possible particular examination witnesses begun shall continued day day witnessed attendance examined court finds adjournment following day necessary reasons recorded endeavor shall ensure inquiry trial concluded period year provided trial concluded said period judge shall record reasons having provided said period extended period reasons recorded writing exceeding months time', 'composition certain offences person prosecuted committing offence punishable subsection 2 section 3 offence permission court compounded person act violence committed', 'presumption certain offences person prosecuted committing offence punishable subsection 3 section 3 court shall presume person committed offence contrary proved', 'presumption culpable mental state 1 prosecution offence subsection 3 section 3 requires culpable mental state accused court shall presume existence mental state shall defence accused prove fact mental state respect act charged offence prosecution', '2 purposes section fact said proved court believes exist reasonable doubt merely existenc e established preponderance probability', 'explanation section culpable mental state includes intention motive knowledge fact belief reason believe fact', 'compensation acts violence 1 addition punishment provided offence subsection 2 subsection 3 section 3 person convicted shall liable pay way compensation determined court causing hurt grievous hurt healthcare service personnel', '2 notwithstanding composition offence section 3b case damage property loss caused compensation payable shall twice fair market value damaged property t loss caused determined court', '3 failure pay compensation awarded subsections 1 2 shall recovered arrear land revenue revenue recovery act 1890 1 1890', 'protection persons acting act suit legal proceeding shall lie person good faith intended act', '5']\n",
            "['an act to provide for the better prevention of the spread of dangerous epidemic diseases', 'whereas it is expedient to provide for the better prevention of the spread of dangerous epidemic disease it is hereby enacted as follows    short title and extent 1 this act may be called the epidemic diseases act 1897', '2 2 it extends to the whole of india 3 4   5     definitions in this unless the context otherwise requires    6 a act of violence includes any of the following acts committed by any person against a healthcare service personnel serving during an epidemic which causes or may cause   i harassment impacting the living or working conditions of such healthcare service personnel and preventing him from discharging his duties ii harm injury hurt intimidation or danger to the life of such healthcare service personnel either within the premises of a clinical establishment or otherwise iii obstruction or hindrance to such healthcare service personnel in the discharge of his duties either within the premises of a clinical establishment or otherwise or iv loss or damage to any property or documents in the custody of or in relation to such healthcare service personnel b healthcare service personnel means a person who while carrying out his duties in relation to epidemic related responsibilities may come in direct contact with affected patients and thereby is at the risk of being impacted by suc h disease and includes  i any public and clinical healthcare provider such as doctor nurse paramedical worker and community health worker ii any other person empowered under the act to take measures to prevent the outbreak of the disease or spread thereof and iii any person declared as such by the state government by notification in the official gazette c property includes  i a clinical establishment as defined in the clinical establishments registration and regulation act 2010 23 of 2010 ii any facility identified for quarantine and isolation of patients during an epidemic iii a mobile medical unit and iv any other property in which a healthcare service personnel has direct interest in relating to the epidemic d the words and expressions used herein and not defined but defined in the indian ports act 1908 15 of 1908 the aircraft act 1934 22 of 1934 or the land ports authority of india act 2010 31 of 2010 as the case may be shall have the same meaning as assign ed to them in that act', '1  power to take special measures and prescribe regulations as to dangerous epidemic disease 1 when at any time the 2state government is satisfied that 2the state or any part thereof is visited by or threatened with an outbreak of any dangerous epidemic disease the 3state government if 4it thinks that the ordinary provisions of the law for the time being in force are insufficient for the purpose may take or require or empower any person to take such measures and by public notice prescribe such temporary regulations to be observed by the public or by any person or class of persons as 4it shall deem necessary to prevent the outbreak of such disease or the spread thereof and may determine in what manner and by whom any expenses incurred including compensation if any shall be defrayed', '2 in particular and without prejudice to the generality of the foregoing provisions the 2state government may take measures and prescribe regulations for  5      b the inspection of persons travelling by railway or otherwise and the segregation in hospital temporary accommodation or otherwise of persons suspected by the inspecting officer of being infected with any such disease', '6     7   powers of central government when the central government is satisfied that india or any part thereof is visited by or threatened with an outbrea k of any dangerous epidemic disease and that the ordinary provisions of the law for the time being in force are insufficient to prevent the outbreak of such disease or the spread thereof 8the central government may take such measures as it deems fit and prescribe regulations for the inspection of any bus o r train or goods vehicle or ship or vessel or aircraft leaving or arriving at any land port or aerodrome as the case may be in the territories to which this act extends and for such detention thereof or of any person intending to travel therein or arriving thereby as may be necessary', '1  prohibition of violence against healthcare service personnel and damage to property no person shall indulge in any act of violence against a healthcare service personnel or cause any damage or loss to any property during an epidemic', 'penalty  21 any person disobeying any regulation or order made under this act shall be deemed to have committed an offence punishable under section 188 of the indian penal code 45 of 1860', '3 2 whoever  i commits or abets the commission of an act of violence against a healthcare service personnel or ii abets or cause damage or loss to any property shall be punished with imprisonment for a term which shall not be less than three months but which may extend to five years and with fine which shall not be less than fifty thousand rupees but which may extend to two lakh rupees', '3 whoever while committing an act of violence against a healthcare service personnel causes grievous hurt as defined in section 320 of the indian penal code 45 of 1860 to such person shall be punished with imprisonment for a term which shall not be less than six months but which may extend to seven years and with fine which shall not be less than one lakh rupees but which may extend to five lakh rupees', '4  cognizance investigation and trial of offences  notwithstanding anything contained in the code of criminal procedure 1973 2 of 1974   i an offence punishable under subsection 2 or subsection 3 of section 3 shall be cognizable and nonbailable ii any case registered under subsection 2 or subsection 3 of section 3 shall be investigated by a police officer not below the rank of inspector iii investigation of a case under subsection 2 or subsection 3 of section 3 shall be completed within a period of thirty days from the date of registration of the first information report iv in every inquiry or trial of a case under sub section 2 or subsection 3 of section 3 the proceedings shall be held as expeditiously as possible and in particular when the examination of witnesses has once begun the same shall be continued from day to day until all the witnessed in attendance have been examined unless the court finds the adjournment of the same beyond the following day to be necessary for reasons to be recorded and an endeavor shall be made to ensure that the inquiry or trial is concluded within a period of one year provided that where the trial is not concluded within the said period the judge shall record the reasons for not having done so provided further that the said period may be extended by such further period for reasons to be recorded in writing but not exceeding six months at a time', 'composition of certain offences  where a person is prosecuted for committing an offence punishable under subsection 2 of section 3 such offence may with the permission of the court be compounded by the person against whom such act of violence is committed', 'presumption as to certain offences where a person is prosecuted for committing an offence punishable under subsection 3 of section 3 the court shall presume that such person has committed such offence unless the contrary is proved', 'presumption of culpable mental state 1 in any prosecution for an offence under subsection 3 of section 3 which requires a culpable mental state on the part of the accused the court shall presume the existence of such mental state but it shall be a defence for the accused to prove the fact that he had no such mental state with respect to the act charged as an offence in that prosecution', '2 for the purposes of this section a fact is said to be proved only when the court believes it to exist beyond reasonable doubt and not merely when its existenc e is established by a preponderance of probability', 'explanation in this section culpable mental state includes intention motive knowledge of a fact and the belief in or reason to believe a fact', 'compensation for acts of violence 1 in addition to the punishment provided for an offence under subsection 2 or subsection 3 of section 3 the person so convicted shall also be liable to pay by way of compensation such amount as may be determined by the court for causing hurt or grievous hurt to any healthcare service personnel', '2 notwithstanding the composition of an offence under section 3b in case of damage to any property or loss caused the compensation payable shall be twice the amount of fair market value of the damaged property or t he loss caused as may be determined by the court', '3 upon failure to pay the compensation awarded under subsections 1 and 2 such amount shall be recovered as an arrear of land revenue under the revenue recovery act 1890 1 of 1890', 'protection to persons acting under act no suit or other legal proceeding shall lie against any person for anything done or in good faith intended to be done under this act', ' 5']\n"
          ]
        }
      ]
    },
    {
      "cell_type": "markdown",
      "source": [
        "#Cosine Similarity"
      ],
      "metadata": {
        "id": "ajJQhfRLU3UK"
      }
    },
    {
      "cell_type": "markdown",
      "source": [
        "converting sentences of document into vector and converting questions into vector and apply brute force method to find the cosine similarity between the sentance vector and question vector and find the min angle between them it mean find the max cosine value between them and sentence with max cosine value is the answer of the given question.\n",
        "\n",
        "Steps:\n",
        "\n",
        "Scan whole document and map with words as key and value as index (make dictionary).\n",
        "Split document into sentences (dataframes) and then store each row into list.\n",
        "Make vector of this list.\n",
        "Ex: Document : Age(index : 1), means(2), age(3), at(4), last(5), birthday(6), Accident(7), sudden(8), unforeseen(9), and(10), involuntary(11), event(12), caused(13), by(14), external(15), visible(16), and(17), violent(18)\n",
        "\n",
        "Suppose sentence is \"Age means ?\"\n",
        "\n",
        "Sentence Vector : 1 1 0 0 0 0 0 0 0 0 0 0 0 0 0 0 0 0\n",
        "\n",
        "Similary make User Question vector (after removing stoping words like what, how, why etc.)\n",
        "\n",
        "Iterate whole sentance vector and find the cosine similarity with user question vector and find the max value (if the value is high it means angle between them is minimum and properties between both vectors matches with max probability)."
      ],
      "metadata": {
        "id": "6L4_lkYYX4ey"
      }
    },
    {
      "cell_type": "code",
      "source": [
        "import numpy\n",
        "sentences = cleaned_sentences_with_stopwords\n",
        "sentence_words = [[word for word in document.split()]\n",
        "                  for document in sentences]\n",
        "\n",
        "from gensim import corpora\n",
        "dictionary = corpora.Dictionary(sentence_words)\n",
        "for key, value in dictionary.items():\n",
        "  print(key, ' : ', value)"
      ],
      "metadata": {
        "colab": {
          "base_uri": "https://localhost:8080/"
        },
        "id": "itDxpQE9U7Sm",
        "outputId": "986a05b4-baa4-4ae9-c46b-c296b7f9588d"
      },
      "execution_count": null,
      "outputs": [
        {
          "output_type": "stream",
          "name": "stdout",
          "text": [
            "0  :  act\n",
            "1  :  an\n",
            "2  :  better\n",
            "3  :  dangerous\n",
            "4  :  diseases\n",
            "5  :  epidemic\n",
            "6  :  for\n",
            "7  :  of\n",
            "8  :  prevention\n",
            "9  :  provide\n",
            "10  :  spread\n",
            "11  :  the\n",
            "12  :  to\n",
            "13  :  1\n",
            "14  :  1897\n",
            "15  :  and\n",
            "16  :  as\n",
            "17  :  be\n",
            "18  :  called\n",
            "19  :  disease\n",
            "20  :  enacted\n",
            "21  :  expedient\n",
            "22  :  extent\n",
            "23  :  follows\n",
            "24  :  hereby\n",
            "25  :  is\n",
            "26  :  it\n",
            "27  :  may\n",
            "28  :  short\n",
            "29  :  this\n",
            "30  :  title\n",
            "31  :  whereas\n",
            "32  :  15\n",
            "33  :  1908\n",
            "34  :  1934\n",
            "35  :  2\n",
            "36  :  2010\n",
            "37  :  22\n",
            "38  :  23\n",
            "39  :  3\n",
            "40  :  31\n",
            "41  :  4\n",
            "42  :  5\n",
            "43  :  6\n",
            "44  :  a\n",
            "45  :  acts\n",
            "46  :  affected\n",
            "47  :  against\n",
            "48  :  aircraft\n",
            "49  :  any\n",
            "50  :  assign\n",
            "51  :  at\n",
            "52  :  authority\n",
            "53  :  b\n",
            "54  :  being\n",
            "55  :  but\n",
            "56  :  by\n",
            "57  :  c\n",
            "58  :  carrying\n",
            "59  :  case\n",
            "60  :  cause\n",
            "61  :  causes\n",
            "62  :  clinical\n",
            "63  :  come\n",
            "64  :  committed\n",
            "65  :  community\n",
            "66  :  conditions\n",
            "67  :  contact\n",
            "68  :  context\n",
            "69  :  custody\n",
            "70  :  d\n",
            "71  :  damage\n",
            "72  :  danger\n",
            "73  :  declared\n",
            "74  :  defined\n",
            "75  :  definitions\n",
            "76  :  direct\n",
            "77  :  discharge\n",
            "78  :  discharging\n",
            "79  :  doctor\n",
            "80  :  documents\n",
            "81  :  during\n",
            "82  :  duties\n",
            "83  :  ed\n",
            "84  :  either\n",
            "85  :  empowered\n",
            "86  :  establishment\n",
            "87  :  establishments\n",
            "88  :  expressions\n",
            "89  :  extends\n",
            "90  :  facility\n",
            "91  :  following\n",
            "92  :  from\n",
            "93  :  gazette\n",
            "94  :  government\n",
            "95  :  h\n",
            "96  :  harassment\n",
            "97  :  harm\n",
            "98  :  has\n",
            "99  :  have\n",
            "100  :  health\n",
            "101  :  healthcare\n",
            "102  :  herein\n",
            "103  :  him\n",
            "104  :  hindrance\n",
            "105  :  his\n",
            "106  :  hurt\n",
            "107  :  i\n",
            "108  :  identified\n",
            "109  :  ii\n",
            "110  :  iii\n",
            "111  :  impacted\n",
            "112  :  impacting\n",
            "113  :  in\n",
            "114  :  includes\n",
            "115  :  india\n",
            "116  :  indian\n",
            "117  :  injury\n",
            "118  :  interest\n",
            "119  :  intimidation\n",
            "120  :  isolation\n",
            "121  :  iv\n",
            "122  :  land\n",
            "123  :  life\n",
            "124  :  living\n",
            "125  :  loss\n",
            "126  :  meaning\n",
            "127  :  means\n",
            "128  :  measures\n",
            "129  :  medical\n",
            "130  :  mobile\n",
            "131  :  not\n",
            "132  :  notification\n",
            "133  :  nurse\n",
            "134  :  obstruction\n",
            "135  :  official\n",
            "136  :  or\n",
            "137  :  other\n",
            "138  :  otherwise\n",
            "139  :  out\n",
            "140  :  outbreak\n",
            "141  :  paramedical\n",
            "142  :  patients\n",
            "143  :  person\n",
            "144  :  personnel\n",
            "145  :  ports\n",
            "146  :  premises\n",
            "147  :  prevent\n",
            "148  :  preventing\n",
            "149  :  property\n",
            "150  :  provider\n",
            "151  :  public\n",
            "152  :  quarantine\n",
            "153  :  registration\n",
            "154  :  regulation\n",
            "155  :  related\n",
            "156  :  relating\n",
            "157  :  relation\n",
            "158  :  requires\n",
            "159  :  responsibilities\n",
            "160  :  risk\n",
            "161  :  same\n",
            "162  :  service\n",
            "163  :  serving\n",
            "164  :  shall\n",
            "165  :  state\n",
            "166  :  suc\n",
            "167  :  such\n",
            "168  :  take\n",
            "169  :  that\n",
            "170  :  them\n",
            "171  :  thereby\n",
            "172  :  thereof\n",
            "173  :  under\n",
            "174  :  unit\n",
            "175  :  unless\n",
            "176  :  used\n",
            "177  :  violence\n",
            "178  :  which\n",
            "179  :  while\n",
            "180  :  who\n",
            "181  :  whole\n",
            "182  :  with\n",
            "183  :  within\n",
            "184  :  words\n",
            "185  :  worker\n",
            "186  :  working\n",
            "187  :  2state\n",
            "188  :  2the\n",
            "189  :  3state\n",
            "190  :  4it\n",
            "191  :  are\n",
            "192  :  class\n",
            "193  :  compensation\n",
            "194  :  deem\n",
            "195  :  defrayed\n",
            "196  :  determine\n",
            "197  :  empower\n",
            "198  :  expenses\n",
            "199  :  force\n",
            "200  :  if\n",
            "201  :  including\n",
            "202  :  incurred\n",
            "203  :  insufficient\n",
            "204  :  law\n",
            "205  :  manner\n",
            "206  :  necessary\n",
            "207  :  notice\n",
            "208  :  observed\n",
            "209  :  ordinary\n",
            "210  :  part\n",
            "211  :  persons\n",
            "212  :  power\n",
            "213  :  prescribe\n",
            "214  :  provisions\n",
            "215  :  purpose\n",
            "216  :  regulations\n",
            "217  :  require\n",
            "218  :  satisfied\n",
            "219  :  special\n",
            "220  :  temporary\n",
            "221  :  thinks\n",
            "222  :  threatened\n",
            "223  :  time\n",
            "224  :  visited\n",
            "225  :  what\n",
            "226  :  when\n",
            "227  :  whom\n",
            "228  :  accommodation\n",
            "229  :  foregoing\n",
            "230  :  generality\n",
            "231  :  hospital\n",
            "232  :  infected\n",
            "233  :  inspecting\n",
            "234  :  inspection\n",
            "235  :  officer\n",
            "236  :  particular\n",
            "237  :  prejudice\n",
            "238  :  railway\n",
            "239  :  segregation\n",
            "240  :  suspected\n",
            "241  :  travelling\n",
            "242  :  without\n",
            "243  :  7\n",
            "244  :  8the\n",
            "245  :  aerodrome\n",
            "246  :  arriving\n",
            "247  :  bus\n",
            "248  :  central\n",
            "249  :  deems\n",
            "250  :  detention\n",
            "251  :  fit\n",
            "252  :  goods\n",
            "253  :  intending\n",
            "254  :  k\n",
            "255  :  leaving\n",
            "256  :  o\n",
            "257  :  outbrea\n",
            "258  :  port\n",
            "259  :  powers\n",
            "260  :  r\n",
            "261  :  ship\n",
            "262  :  territories\n",
            "263  :  therein\n",
            "264  :  train\n",
            "265  :  travel\n",
            "266  :  vehicle\n",
            "267  :  vessel\n",
            "268  :  indulge\n",
            "269  :  no\n",
            "270  :  prohibition\n",
            "271  :  1860\n",
            "272  :  188\n",
            "273  :  21\n",
            "274  :  45\n",
            "275  :  code\n",
            "276  :  deemed\n",
            "277  :  disobeying\n",
            "278  :  made\n",
            "279  :  offence\n",
            "280  :  order\n",
            "281  :  penal\n",
            "282  :  penalty\n",
            "283  :  punishable\n",
            "284  :  section\n",
            "285  :  abets\n",
            "286  :  commission\n",
            "287  :  commits\n",
            "288  :  extend\n",
            "289  :  fifty\n",
            "290  :  fine\n",
            "291  :  five\n",
            "292  :  imprisonment\n",
            "293  :  lakh\n",
            "294  :  less\n",
            "295  :  months\n",
            "296  :  punished\n",
            "297  :  rupees\n",
            "298  :  term\n",
            "299  :  than\n",
            "300  :  thousand\n",
            "301  :  three\n",
            "302  :  two\n",
            "303  :  whoever\n",
            "304  :  years\n",
            "305  :  320\n",
            "306  :  committing\n",
            "307  :  grievous\n",
            "308  :  one\n",
            "309  :  seven\n",
            "310  :  six\n",
            "311  :  1973\n",
            "312  :  1974\n",
            "313  :  adjournment\n",
            "314  :  all\n",
            "315  :  anything\n",
            "316  :  attendance\n",
            "317  :  been\n",
            "318  :  begun\n",
            "319  :  below\n",
            "320  :  beyond\n",
            "321  :  cognizable\n",
            "322  :  cognizance\n",
            "323  :  completed\n",
            "324  :  concluded\n",
            "325  :  contained\n",
            "326  :  continued\n",
            "327  :  court\n",
            "328  :  criminal\n",
            "329  :  date\n",
            "330  :  day\n",
            "331  :  days\n",
            "332  :  done\n",
            "333  :  endeavor\n",
            "334  :  ensure\n",
            "335  :  every\n",
            "336  :  examination\n",
            "337  :  examined\n",
            "338  :  exceeding\n",
            "339  :  expeditiously\n",
            "340  :  extended\n",
            "341  :  finds\n",
            "342  :  first\n",
            "343  :  further\n",
            "344  :  having\n",
            "345  :  held\n",
            "346  :  information\n",
            "347  :  inquiry\n",
            "348  :  inspector\n",
            "349  :  investigated\n",
            "350  :  investigation\n",
            "351  :  judge\n",
            "352  :  nonbailable\n",
            "353  :  notwithstanding\n",
            "354  :  offences\n",
            "355  :  once\n",
            "356  :  period\n",
            "357  :  police\n",
            "358  :  possible\n",
            "359  :  procedure\n",
            "360  :  proceedings\n",
            "361  :  provided\n",
            "362  :  rank\n",
            "363  :  reasons\n",
            "364  :  record\n",
            "365  :  recorded\n",
            "366  :  registered\n",
            "367  :  report\n",
            "368  :  said\n",
            "369  :  so\n",
            "370  :  sub\n",
            "371  :  subsection\n",
            "372  :  thirty\n",
            "373  :  trial\n",
            "374  :  until\n",
            "375  :  where\n",
            "376  :  witnessed\n",
            "377  :  witnesses\n",
            "378  :  writing\n",
            "379  :  year\n",
            "380  :  certain\n",
            "381  :  composition\n",
            "382  :  compounded\n",
            "383  :  permission\n",
            "384  :  prosecuted\n",
            "385  :  contrary\n",
            "386  :  presume\n",
            "387  :  presumption\n",
            "388  :  proved\n",
            "389  :  accused\n",
            "390  :  charged\n",
            "391  :  culpable\n",
            "392  :  defence\n",
            "393  :  existence\n",
            "394  :  fact\n",
            "395  :  had\n",
            "396  :  he\n",
            "397  :  mental\n",
            "398  :  on\n",
            "399  :  prosecution\n",
            "400  :  prove\n",
            "401  :  respect\n",
            "402  :  believes\n",
            "403  :  doubt\n",
            "404  :  e\n",
            "405  :  established\n",
            "406  :  exist\n",
            "407  :  existenc\n",
            "408  :  its\n",
            "409  :  merely\n",
            "410  :  only\n",
            "411  :  preponderance\n",
            "412  :  probability\n",
            "413  :  purposes\n",
            "414  :  reasonable\n",
            "415  :  belief\n",
            "416  :  believe\n",
            "417  :  explanation\n",
            "418  :  intention\n",
            "419  :  knowledge\n",
            "420  :  motive\n",
            "421  :  reason\n",
            "422  :  addition\n",
            "423  :  also\n",
            "424  :  amount\n",
            "425  :  causing\n",
            "426  :  convicted\n",
            "427  :  determined\n",
            "428  :  liable\n",
            "429  :  pay\n",
            "430  :  punishment\n",
            "431  :  way\n",
            "432  :  3b\n",
            "433  :  caused\n",
            "434  :  damaged\n",
            "435  :  fair\n",
            "436  :  market\n",
            "437  :  payable\n",
            "438  :  t\n",
            "439  :  twice\n",
            "440  :  value\n",
            "441  :  1890\n",
            "442  :  arrear\n",
            "443  :  awarded\n",
            "444  :  failure\n",
            "445  :  recovered\n",
            "446  :  recovery\n",
            "447  :  revenue\n",
            "448  :  subsections\n",
            "449  :  upon\n",
            "450  :  acting\n",
            "451  :  faith\n",
            "452  :  good\n",
            "453  :  intended\n",
            "454  :  legal\n",
            "455  :  lie\n",
            "456  :  proceeding\n",
            "457  :  protection\n",
            "458  :  suit\n"
          ]
        }
      ]
    },
    {
      "cell_type": "code",
      "source": [
        "import pprint\n",
        "bow_corpus = [dictionary.doc2bow(text) for text in sentence_words]\n",
        "for sent, embedding in zip(sentences, bow_corpus):\n",
        "  print(sent)\n",
        "  print(embedding)"
      ],
      "metadata": {
        "colab": {
          "base_uri": "https://localhost:8080/"
        },
        "id": "LqLFZs-0Xqwx",
        "outputId": "dcaa4927-d166-4367-f6f4-d7f5a23b6117"
      },
      "execution_count": null,
      "outputs": [
        {
          "output_type": "stream",
          "name": "stdout",
          "text": [
            "an act to provide for the better prevention of the spread of dangerous epidemic diseases\n",
            "[(0, 1), (1, 1), (2, 1), (3, 1), (4, 1), (5, 1), (6, 1), (7, 2), (8, 1), (9, 1), (10, 1), (11, 2), (12, 1)]\n",
            "whereas it is expedient to provide for the better prevention of the spread of dangerous epidemic disease it is hereby enacted as follows    short title and extent 1 this act may be called the epidemic diseases act 1897\n",
            "[(0, 2), (2, 1), (3, 1), (4, 1), (5, 2), (6, 1), (7, 2), (8, 1), (9, 1), (10, 1), (11, 3), (12, 1), (13, 1), (14, 1), (15, 1), (16, 1), (17, 1), (18, 1), (19, 1), (20, 1), (21, 1), (22, 1), (23, 1), (24, 1), (25, 2), (26, 2), (27, 1), (28, 1), (29, 1), (30, 1), (31, 1)]\n",
            "2 2 it extends to the whole of india 3 4   5     definitions in this unless the context otherwise requires    6 a act of violence includes any of the following acts committed by any person against a healthcare service personnel serving during an epidemic which causes or may cause   i harassment impacting the living or working conditions of such healthcare service personnel and preventing him from discharging his duties ii harm injury hurt intimidation or danger to the life of such healthcare service personnel either within the premises of a clinical establishment or otherwise iii obstruction or hindrance to such healthcare service personnel in the discharge of his duties either within the premises of a clinical establishment or otherwise or iv loss or damage to any property or documents in the custody of or in relation to such healthcare service personnel b healthcare service personnel means a person who while carrying out his duties in relation to epidemic related responsibilities may come in direct contact with affected patients and thereby is at the risk of being impacted by suc h disease and includes  i any public and clinical healthcare provider such as doctor nurse paramedical worker and community health worker ii any other person empowered under the act to take measures to prevent the outbreak of the disease or spread thereof and iii any person declared as such by the state government by notification in the official gazette c property includes  i a clinical establishment as defined in the clinical establishments registration and regulation act 2010 23 of 2010 ii any facility identified for quarantine and isolation of patients during an epidemic iii a mobile medical unit and iv any other property in which a healthcare service personnel has direct interest in relating to the epidemic d the words and expressions used herein and not defined but defined in the indian ports act 1908 15 of 1908 the aircraft act 1934 22 of 1934 or the land ports authority of india act 2010 31 of 2010 as the case may be shall have the same meaning as assign ed to them in that act\n",
            "[(0, 7), (1, 2), (5, 4), (6, 1), (7, 17), (10, 1), (11, 23), (12, 10), (15, 11), (16, 5), (17, 1), (19, 2), (25, 1), (26, 1), (27, 3), (29, 1), (32, 1), (33, 2), (34, 2), (35, 2), (36, 4), (37, 1), (38, 1), (39, 1), (40, 1), (41, 1), (42, 1), (43, 1), (44, 8), (45, 1), (46, 1), (47, 1), (48, 1), (49, 8), (50, 1), (51, 1), (52, 1), (53, 1), (54, 1), (55, 1), (56, 4), (57, 1), (58, 1), (59, 1), (60, 1), (61, 1), (62, 5), (63, 1), (64, 1), (65, 1), (66, 1), (67, 1), (68, 1), (69, 1), (70, 1), (71, 1), (72, 1), (73, 1), (74, 3), (75, 1), (76, 2), (77, 1), (78, 1), (79, 1), (80, 1), (81, 2), (82, 3), (83, 1), (84, 2), (85, 1), (86, 3), (87, 1), (88, 1), (89, 1), (90, 1), (91, 1), (92, 1), (93, 1), (94, 1), (95, 1), (96, 1), (97, 1), (98, 1), (99, 1), (100, 1), (101, 8), (102, 1), (103, 1), (104, 1), (105, 3), (106, 1), (107, 3), (108, 1), (109, 3), (110, 3), (111, 1), (112, 1), (113, 12), (114, 3), (115, 2), (116, 1), (117, 1), (118, 1), (119, 1), (120, 1), (121, 2), (122, 1), (123, 1), (124, 1), (125, 1), (126, 1), (127, 1), (128, 1), (129, 1), (130, 1), (131, 1), (132, 1), (133, 1), (134, 1), (135, 1), (136, 12), (137, 2), (138, 3), (139, 1), (140, 1), (141, 1), (142, 2), (143, 4), (144, 7), (145, 2), (146, 2), (147, 1), (148, 1), (149, 3), (150, 1), (151, 1), (152, 1), (153, 1), (154, 1), (155, 1), (156, 1), (157, 2), (158, 1), (159, 1), (160, 1), (161, 1), (162, 7), (163, 1), (164, 1), (165, 1), (166, 1), (167, 6), (168, 1), (169, 1), (170, 1), (171, 1), (172, 1), (173, 1), (174, 1), (175, 1), (176, 1), (177, 1), (178, 2), (179, 1), (180, 1), (181, 1), (182, 1), (183, 2), (184, 1), (185, 2), (186, 1)]\n",
            "1  power to take special measures and prescribe regulations as to dangerous epidemic disease 1 when at any time the 2state government is satisfied that 2the state or any part thereof is visited by or threatened with an outbreak of any dangerous epidemic disease the 3state government if 4it thinks that the ordinary provisions of the law for the time being in force are insufficient for the purpose may take or require or empower any person to take such measures and by public notice prescribe such temporary regulations to be observed by the public or by any person or class of persons as 4it shall deem necessary to prevent the outbreak of such disease or the spread thereof and may determine in what manner and by whom any expenses incurred including compensation if any shall be defrayed\n",
            "[(1, 1), (3, 2), (5, 2), (6, 2), (7, 4), (10, 1), (11, 9), (12, 5), (13, 2), (15, 4), (16, 2), (17, 2), (19, 3), (25, 2), (27, 2), (49, 7), (51, 1), (54, 1), (56, 5), (94, 2), (113, 2), (128, 2), (136, 7), (140, 2), (143, 2), (147, 1), (151, 2), (164, 2), (165, 1), (167, 3), (168, 3), (169, 2), (172, 2), (182, 1), (187, 1), (188, 1), (189, 1), (190, 2), (191, 1), (192, 1), (193, 1), (194, 1), (195, 1), (196, 1), (197, 1), (198, 1), (199, 1), (200, 2), (201, 1), (202, 1), (203, 1), (204, 1), (205, 1), (206, 1), (207, 1), (208, 1), (209, 1), (210, 1), (211, 1), (212, 1), (213, 2), (214, 1), (215, 1), (216, 2), (217, 1), (218, 1), (219, 1), (220, 1), (221, 1), (222, 1), (223, 2), (224, 1), (225, 1), (226, 1), (227, 1)]\n",
            "2 in particular and without prejudice to the generality of the foregoing provisions the 2state government may take measures and prescribe regulations for  5      b the inspection of persons travelling by railway or otherwise and the segregation in hospital temporary accommodation or otherwise of persons suspected by the inspecting officer of being infected with any such disease\n",
            "[(6, 1), (7, 4), (11, 6), (12, 1), (15, 3), (19, 1), (27, 1), (35, 1), (42, 1), (49, 1), (53, 1), (54, 1), (56, 2), (94, 1), (113, 2), (128, 1), (136, 2), (138, 2), (167, 1), (168, 1), (182, 1), (187, 1), (211, 2), (213, 1), (214, 1), (216, 1), (220, 1), (228, 1), (229, 1), (230, 1), (231, 1), (232, 1), (233, 1), (234, 1), (235, 1), (236, 1), (237, 1), (238, 1), (239, 1), (240, 1), (241, 1), (242, 1)]\n",
            "6     7   powers of central government when the central government is satisfied that india or any part thereof is visited by or threatened with an outbrea k of any dangerous epidemic disease and that the ordinary provisions of the law for the time being in force are insufficient to prevent the outbreak of such disease or the spread thereof 8the central government may take such measures as it deems fit and prescribe regulations for the inspection of any bus o r train or goods vehicle or ship or vessel or aircraft leaving or arriving at any land port or aerodrome as the case may be in the territories to which this act extends and for such detention thereof or of any person intending to travel therein or arriving thereby as may be necessary\n",
            "[(0, 1), (1, 1), (3, 1), (5, 1), (6, 3), (7, 6), (10, 1), (11, 9), (12, 3), (15, 3), (16, 3), (17, 2), (19, 2), (25, 2), (26, 1), (27, 3), (29, 1), (43, 1), (48, 1), (49, 5), (51, 1), (54, 1), (56, 1), (59, 1), (89, 1), (94, 3), (113, 2), (115, 1), (122, 1), (128, 1), (136, 11), (140, 1), (143, 1), (147, 1), (167, 3), (168, 1), (169, 2), (171, 1), (172, 3), (178, 1), (182, 1), (191, 1), (199, 1), (203, 1), (204, 1), (206, 1), (209, 1), (210, 1), (213, 1), (214, 1), (216, 1), (218, 1), (222, 1), (223, 1), (224, 1), (226, 1), (234, 1), (243, 1), (244, 1), (245, 1), (246, 2), (247, 1), (248, 3), (249, 1), (250, 1), (251, 1), (252, 1), (253, 1), (254, 1), (255, 1), (256, 1), (257, 1), (258, 1), (259, 1), (260, 1), (261, 1), (262, 1), (263, 1), (264, 1), (265, 1), (266, 1), (267, 1)]\n",
            "1  prohibition of violence against healthcare service personnel and damage to property no person shall indulge in any act of violence against a healthcare service personnel or cause any damage or loss to any property during an epidemic\n",
            "[(0, 1), (1, 1), (5, 1), (7, 2), (12, 2), (13, 1), (15, 1), (44, 1), (47, 2), (49, 3), (60, 1), (71, 2), (81, 1), (101, 2), (113, 1), (125, 1), (136, 2), (143, 1), (144, 2), (149, 2), (162, 2), (164, 1), (177, 2), (268, 1), (269, 1), (270, 1)]\n",
            "penalty  21 any person disobeying any regulation or order made under this act shall be deemed to have committed an offence punishable under section 188 of the indian penal code 45 of 1860\n",
            "[(0, 1), (1, 1), (7, 2), (11, 1), (12, 1), (17, 1), (29, 1), (49, 2), (64, 1), (99, 1), (116, 1), (136, 1), (143, 1), (154, 1), (164, 1), (173, 2), (271, 1), (272, 1), (273, 1), (274, 1), (275, 1), (276, 1), (277, 1), (278, 1), (279, 1), (280, 1), (281, 1), (282, 1), (283, 1), (284, 1)]\n",
            "3 2 whoever  i commits or abets the commission of an act of violence against a healthcare service personnel or ii abets or cause damage or loss to any property shall be punished with imprisonment for a term which shall not be less than three months but which may extend to five years and with fine which shall not be less than fifty thousand rupees but which may extend to two lakh rupees\n",
            "[(0, 1), (1, 1), (6, 1), (7, 2), (11, 1), (12, 3), (15, 1), (17, 3), (27, 2), (35, 1), (39, 1), (44, 2), (47, 1), (49, 1), (55, 2), (60, 1), (71, 1), (101, 1), (107, 1), (109, 1), (125, 1), (131, 2), (136, 4), (144, 1), (149, 1), (162, 1), (164, 3), (177, 1), (178, 4), (182, 2), (285, 2), (286, 1), (287, 1), (288, 2), (289, 1), (290, 1), (291, 1), (292, 1), (293, 1), (294, 2), (295, 1), (296, 1), (297, 2), (298, 1), (299, 2), (300, 1), (301, 1), (302, 1), (303, 1), (304, 1)]\n",
            "3 whoever while committing an act of violence against a healthcare service personnel causes grievous hurt as defined in section 320 of the indian penal code 45 of 1860 to such person shall be punished with imprisonment for a term which shall not be less than six months but which may extend to seven years and with fine which shall not be less than one lakh rupees but which may extend to five lakh rupees\n",
            "[(0, 1), (1, 1), (6, 1), (7, 3), (11, 1), (12, 3), (15, 1), (16, 1), (17, 3), (27, 2), (39, 1), (44, 2), (47, 1), (55, 2), (61, 1), (74, 1), (101, 1), (106, 1), (113, 1), (116, 1), (131, 2), (143, 1), (144, 1), (162, 1), (164, 3), (167, 1), (177, 1), (178, 4), (179, 1), (182, 2), (271, 1), (274, 1), (275, 1), (281, 1), (284, 1), (288, 2), (290, 1), (291, 1), (292, 1), (293, 2), (294, 2), (295, 1), (296, 1), (297, 2), (298, 1), (299, 2), (303, 1), (304, 1), (305, 1), (306, 1), (307, 1), (308, 1), (309, 1), (310, 1)]\n",
            "4  cognizance investigation and trial of offences  notwithstanding anything contained in the code of criminal procedure 1973 2 of 1974   i an offence punishable under subsection 2 or subsection 3 of section 3 shall be cognizable and nonbailable ii any case registered under subsection 2 or subsection 3 of section 3 shall be investigated by a police officer not below the rank of inspector iii investigation of a case under subsection 2 or subsection 3 of section 3 shall be completed within a period of thirty days from the date of registration of the first information report iv in every inquiry or trial of a case under sub section 2 or subsection 3 of section 3 the proceedings shall be held as expeditiously as possible and in particular when the examination of witnesses has once begun the same shall be continued from day to day until all the witnessed in attendance have been examined unless the court finds the adjournment of the same beyond the following day to be necessary for reasons to be recorded and an endeavor shall be made to ensure that the inquiry or trial is concluded within a period of one year provided that where the trial is not concluded within the said period the judge shall record the reasons for not having done so provided further that the said period may be extended by such further period for reasons to be recorded in writing but not exceeding six months at a time\n",
            "[(1, 2), (6, 3), (7, 16), (11, 18), (12, 5), (15, 4), (16, 2), (17, 10), (25, 2), (27, 1), (35, 5), (39, 8), (41, 1), (44, 6), (49, 1), (51, 1), (55, 1), (56, 2), (59, 3), (91, 1), (92, 2), (98, 1), (99, 1), (107, 1), (109, 1), (110, 1), (113, 5), (121, 1), (131, 4), (136, 6), (153, 1), (161, 2), (164, 7), (167, 1), (169, 3), (173, 4), (175, 1), (183, 3), (206, 1), (223, 1), (226, 1), (235, 1), (236, 1), (275, 1), (278, 1), (279, 1), (283, 1), (284, 5), (295, 1), (308, 1), (310, 1), (311, 1), (312, 1), (313, 1), (314, 1), (315, 1), (316, 1), (317, 1), (318, 1), (319, 1), (320, 1), (321, 1), (322, 1), (323, 1), (324, 2), (325, 1), (326, 1), (327, 1), (328, 1), (329, 1), (330, 3), (331, 1), (332, 1), (333, 1), (334, 1), (335, 1), (336, 1), (337, 1), (338, 1), (339, 1), (340, 1), (341, 1), (342, 1), (343, 2), (344, 1), (345, 1), (346, 1), (347, 2), (348, 1), (349, 1), (350, 2), (351, 1), (352, 1), (353, 1), (354, 1), (355, 1), (356, 5), (357, 1), (358, 1), (359, 1), (360, 1), (361, 2), (362, 1), (363, 3), (364, 1), (365, 2), (366, 1), (367, 1), (368, 2), (369, 1), (370, 1), (371, 7), (372, 1), (373, 4), (374, 1), (375, 1), (376, 1), (377, 1), (378, 1), (379, 1)]\n",
            "composition of certain offences  where a person is prosecuted for committing an offence punishable under subsection 2 of section 3 such offence may with the permission of the court be compounded by the person against whom such act of violence is committed\n",
            "[(0, 1), (1, 1), (6, 1), (7, 4), (11, 3), (17, 1), (25, 2), (27, 1), (35, 1), (39, 1), (44, 1), (47, 1), (56, 1), (64, 1), (143, 2), (167, 2), (173, 1), (177, 1), (182, 1), (227, 1), (279, 2), (283, 1), (284, 1), (306, 1), (327, 1), (354, 1), (371, 1), (375, 1), (380, 1), (381, 1), (382, 1), (383, 1), (384, 1)]\n",
            "presumption as to certain offences where a person is prosecuted for committing an offence punishable under subsection 3 of section 3 the court shall presume that such person has committed such offence unless the contrary is proved\n",
            "[(1, 1), (6, 1), (7, 1), (11, 2), (12, 1), (16, 1), (25, 2), (39, 2), (44, 1), (64, 1), (98, 1), (143, 2), (164, 1), (167, 2), (169, 1), (173, 1), (175, 1), (279, 2), (283, 1), (284, 1), (306, 1), (327, 1), (354, 1), (371, 1), (375, 1), (380, 1), (384, 1), (385, 1), (386, 1), (387, 1), (388, 1)]\n",
            "presumption of culpable mental state 1 in any prosecution for an offence under subsection 3 of section 3 which requires a culpable mental state on the part of the accused the court shall presume the existence of such mental state but it shall be a defence for the accused to prove the fact that he had no such mental state with respect to the act charged as an offence in that prosecution\n",
            "[(0, 1), (1, 2), (6, 2), (7, 4), (11, 7), (12, 2), (13, 1), (16, 1), (17, 1), (26, 1), (39, 2), (44, 2), (49, 1), (55, 1), (113, 2), (158, 1), (164, 2), (165, 4), (167, 2), (169, 2), (173, 1), (178, 1), (182, 1), (210, 1), (269, 1), (279, 2), (284, 1), (327, 1), (371, 1), (386, 1), (387, 1), (389, 2), (390, 1), (391, 2), (392, 1), (393, 1), (394, 1), (395, 1), (396, 1), (397, 4), (398, 1), (399, 2), (400, 1), (401, 1)]\n",
            "2 for the purposes of this section a fact is said to be proved only when the court believes it to exist beyond reasonable doubt and not merely when its existenc e is established by a preponderance of probability\n",
            "[(6, 1), (7, 2), (11, 2), (12, 2), (15, 1), (17, 1), (25, 2), (26, 1), (29, 1), (35, 1), (44, 2), (56, 1), (131, 1), (226, 2), (284, 1), (320, 1), (327, 1), (368, 1), (388, 1), (394, 1), (402, 1), (403, 1), (404, 1), (405, 1), (406, 1), (407, 1), (408, 1), (409, 1), (410, 1), (411, 1), (412, 1), (413, 1), (414, 1)]\n",
            "explanation in this section culpable mental state includes intention motive knowledge of a fact and the belief in or reason to believe a fact\n",
            "[(7, 1), (11, 1), (12, 1), (15, 1), (29, 1), (44, 2), (113, 2), (114, 1), (136, 1), (165, 1), (284, 1), (391, 1), (394, 2), (397, 1), (415, 1), (416, 1), (417, 1), (418, 1), (419, 1), (420, 1), (421, 1)]\n",
            "compensation for acts of violence 1 in addition to the punishment provided for an offence under subsection 2 or subsection 3 of section 3 the person so convicted shall also be liable to pay by way of compensation such amount as may be determined by the court for causing hurt or grievous hurt to any healthcare service personnel\n",
            "[(1, 1), (6, 3), (7, 3), (11, 3), (12, 3), (13, 1), (16, 1), (17, 2), (27, 1), (35, 1), (39, 2), (45, 1), (49, 1), (56, 2), (101, 1), (106, 2), (113, 1), (136, 2), (143, 1), (144, 1), (162, 1), (164, 1), (167, 1), (173, 1), (177, 1), (193, 2), (279, 1), (284, 1), (307, 1), (327, 1), (361, 1), (369, 1), (371, 2), (422, 1), (423, 1), (424, 1), (425, 1), (426, 1), (427, 1), (428, 1), (429, 1), (430, 1), (431, 1)]\n",
            "2 notwithstanding the composition of an offence under section 3b in case of damage to any property or loss caused the compensation payable shall be twice the amount of fair market value of the damaged property or t he loss caused as may be determined by the court\n",
            "[(1, 1), (7, 4), (11, 5), (12, 1), (16, 1), (17, 2), (27, 1), (35, 1), (49, 1), (56, 1), (59, 1), (71, 1), (113, 1), (125, 2), (136, 2), (149, 2), (164, 1), (173, 1), (193, 1), (279, 1), (284, 1), (327, 1), (353, 1), (381, 1), (396, 1), (424, 1), (427, 1), (432, 1), (433, 2), (434, 1), (435, 1), (436, 1), (437, 1), (438, 1), (439, 1), (440, 1)]\n",
            "3 upon failure to pay the compensation awarded under subsections 1 and 2 such amount shall be recovered as an arrear of land revenue under the revenue recovery act 1890 1 of 1890\n",
            "[(0, 1), (1, 1), (7, 2), (11, 2), (12, 1), (13, 2), (15, 1), (16, 1), (17, 1), (35, 1), (39, 1), (122, 1), (164, 1), (167, 1), (173, 2), (193, 1), (424, 1), (429, 1), (441, 2), (442, 1), (443, 1), (444, 1), (445, 1), (446, 1), (447, 2), (448, 1), (449, 1)]\n",
            "protection to persons acting under act no suit or other legal proceeding shall lie against any person for anything done or in good faith intended to be done under this act\n",
            "[(0, 2), (6, 1), (12, 2), (17, 1), (29, 1), (47, 1), (49, 1), (113, 1), (136, 2), (137, 1), (143, 1), (164, 1), (173, 2), (211, 1), (269, 1), (315, 1), (332, 2), (450, 1), (451, 1), (452, 1), (453, 1), (454, 1), (455, 1), (456, 1), (457, 1), (458, 1)]\n",
            " 5\n",
            "[(42, 1)]\n"
          ]
        }
      ]
    },
    {
      "cell_type": "code",
      "source": [
        "question = \"What does Composition of certain offences?\""
      ],
      "metadata": {
        "id": "iofem4oXYBRT"
      },
      "execution_count": null,
      "outputs": []
    },
    {
      "cell_type": "code",
      "source": [],
      "metadata": {
        "id": "9EbwZM37622p"
      },
      "execution_count": null,
      "outputs": []
    },
    {
      "cell_type": "code",
      "source": [
        "# Preprocessing of user question"
      ],
      "metadata": {
        "id": "BTrgdBlQYDrn"
      },
      "execution_count": null,
      "outputs": []
    },
    {
      "cell_type": "code",
      "source": [
        "# import re\n",
        "# import gensim\n",
        "# from gensim.parsing.preprocessing import remove_stopwords\n",
        "\n",
        "# def preprocess_question(question):\n",
        "#     # Convert to lowercase and remove extra whitespace\n",
        "#     question = question.lower().strip()\n",
        "#     # Remove special characters and digits\n",
        "#     question = re.sub(r'[^a-z\\s]', '', question)\n",
        "#     # Remove stopwords\n",
        "#     question = remove_stopwords(question)\n",
        "#     # Remove extra whitespace\n",
        "#     question = re.sub(r'\\s+', ' ', question).strip()\n",
        "#     # Remove punctuation marks\n",
        "#     question = re.sub(r'[.,!?]', '', question)\n",
        "#     return question\n",
        "\n",
        "\n",
        "# # Preprocess the question\n",
        "# pre_question = preprocess_question(question)\n",
        "\n",
        "# # Now 'preprocessed_question' contains the preprocessed question\n",
        "# print(\"Original Question:\", question)\n",
        "# print(\"Preprocessed Question:\", pre_question)\n"
      ],
      "metadata": {
        "colab": {
          "base_uri": "https://localhost:8080/"
        },
        "id": "XtOZmdm364mX",
        "outputId": "d43dd45a-14fc-4f72-b239-b21d7e397033"
      },
      "execution_count": null,
      "outputs": [
        {
          "output_type": "stream",
          "name": "stdout",
          "text": [
            "Original Question: what does composition of certain offences\n",
            "Preprocessed Question: composition certain offences\n"
          ]
        }
      ]
    },
    {
      "cell_type": "code",
      "source": [
        "question = clean_sentence(question, stopwords=False)\n",
        "question_embedding = dictionary.doc2bow(question.split())\n",
        "print(question, \"\\n\", question_embedding)"
      ],
      "metadata": {
        "colab": {
          "base_uri": "https://localhost:8080/"
        },
        "id": "-QV-84iF7eeV",
        "outputId": "6b0809de-85e2-440e-b562-03fb95b6cf63"
      },
      "execution_count": null,
      "outputs": [
        {
          "output_type": "stream",
          "name": "stdout",
          "text": [
            "what does composition of certain offences \n",
            " [(7, 1), (225, 1), (354, 1), (380, 1), (381, 1)]\n"
          ]
        }
      ]
    },
    {
      "cell_type": "code",
      "source": [
        "import sklearn\n",
        "from sklearn.metrics.pairwise import cosine_similarity\n",
        "\n",
        "def retrieveAndPrintFAQAnswer(question_embedding, sentence_embeddings, sentences):\n",
        "  max_sim = -1\n",
        "  index_sim = -1\n",
        "  for index, embedding in enumerate(sentence_embeddings):\n",
        "    sim = cosine_similarity(embedding, question_embedding)[0][0]\n",
        "    print(index, sim, sentences[index])\n",
        "    if sim > max_sim:\n",
        "      max_sim = sim\n",
        "      index_sim = index\n",
        "\n",
        "  return index_sim\n",
        "index = retrieveAndPrintFAQAnswer(question_embedding, bow_corpus, sentences)"
      ],
      "metadata": {
        "colab": {
          "base_uri": "https://localhost:8080/"
        },
        "id": "fOH56viJ6pjq",
        "outputId": "493c9d48-6261-40f2-cd15-b89450a1d44a"
      },
      "execution_count": null,
      "outputs": [
        {
          "output_type": "stream",
          "name": "stdout",
          "text": [
            "0 0.1414213562373095 an act to provide for the better prevention of the spread of dangerous epidemic diseases\n",
            "1 0.1414213562373095 whereas it is expedient to provide for the better prevention of the spread of dangerous epidemic disease it is hereby enacted as follows    short title and extent 1 this act may be called the epidemic diseases act 1897\n",
            "2 0.1414213562373095 2 2 it extends to the whole of india 3 4   5     definitions in this unless the context otherwise requires    6 a act of violence includes any of the following acts committed by any person against a healthcare service personnel serving during an epidemic which causes or may cause   i harassment impacting the living or working conditions of such healthcare service personnel and preventing him from discharging his duties ii harm injury hurt intimidation or danger to the life of such healthcare service personnel either within the premises of a clinical establishment or otherwise iii obstruction or hindrance to such healthcare service personnel in the discharge of his duties either within the premises of a clinical establishment or otherwise or iv loss or damage to any property or documents in the custody of or in relation to such healthcare service personnel b healthcare service personnel means a person who while carrying out his duties in relation to epidemic related responsibilities may come in direct contact with affected patients and thereby is at the risk of being impacted by suc h disease and includes  i any public and clinical healthcare provider such as doctor nurse paramedical worker and community health worker ii any other person empowered under the act to take measures to prevent the outbreak of the disease or spread thereof and iii any person declared as such by the state government by notification in the official gazette c property includes  i a clinical establishment as defined in the clinical establishments registration and regulation act 2010 23 of 2010 ii any facility identified for quarantine and isolation of patients during an epidemic iii a mobile medical unit and iv any other property in which a healthcare service personnel has direct interest in relating to the epidemic d the words and expressions used herein and not defined but defined in the indian ports act 1908 15 of 1908 the aircraft act 1934 22 of 1934 or the land ports authority of india act 2010 31 of 2010 as the case may be shall have the same meaning as assign ed to them in that act\n",
            "3 0.7999999999999998 1  power to take special measures and prescribe regulations as to dangerous epidemic disease 1 when at any time the 2state government is satisfied that 2the state or any part thereof is visited by or threatened with an outbreak of any dangerous epidemic disease the 3state government if 4it thinks that the ordinary provisions of the law for the time being in force are insufficient for the purpose may take or require or empower any person to take such measures and by public notice prescribe such temporary regulations to be observed by the public or by any person or class of persons as 4it shall deem necessary to prevent the outbreak of such disease or the spread thereof and may determine in what manner and by whom any expenses incurred including compensation if any shall be defrayed\n",
            "4 0.9997296931968458 2 in particular and without prejudice to the generality of the foregoing provisions the 2state government may take measures and prescribe regulations for  5      b the inspection of persons travelling by railway or otherwise and the segregation in hospital temporary accommodation or otherwise of persons suspected by the inspecting officer of being infected with any such disease\n",
            "5 0.1414213562373095 6     7   powers of central government when the central government is satisfied that india or any part thereof is visited by or threatened with an outbrea k of any dangerous epidemic disease and that the ordinary provisions of the law for the time being in force are insufficient to prevent the outbreak of such disease or the spread thereof 8the central government may take such measures as it deems fit and prescribe regulations for the inspection of any bus o r train or goods vehicle or ship or vessel or aircraft leaving or arriving at any land port or aerodrome as the case may be in the territories to which this act extends and for such detention thereof or of any person intending to travel therein or arriving thereby as may be necessary\n",
            "6 0.1414213562373095 1  prohibition of violence against healthcare service personnel and damage to property no person shall indulge in any act of violence against a healthcare service personnel or cause any damage or loss to any property during an epidemic\n",
            "7 0.1414213562373095 penalty  21 any person disobeying any regulation or order made under this act shall be deemed to have committed an offence punishable under section 188 of the indian penal code 45 of 1860\n",
            "8 0.1414213562373095 3 2 whoever  i commits or abets the commission of an act of violence against a healthcare service personnel or ii abets or cause damage or loss to any property shall be punished with imprisonment for a term which shall not be less than three months but which may extend to five years and with fine which shall not be less than fifty thousand rupees but which may extend to two lakh rupees\n",
            "9 0.1414213562373095 3 whoever while committing an act of violence against a healthcare service personnel causes grievous hurt as defined in section 320 of the indian penal code 45 of 1860 to such person shall be punished with imprisonment for a term which shall not be less than six months but which may extend to seven years and with fine which shall not be less than one lakh rupees but which may extend to five lakh rupees\n",
            "10 0.5692099788303082 4  cognizance investigation and trial of offences  notwithstanding anything contained in the code of criminal procedure 1973 2 of 1974   i an offence punishable under subsection 2 or subsection 3 of section 3 shall be cognizable and nonbailable ii any case registered under subsection 2 or subsection 3 of section 3 shall be investigated by a police officer not below the rank of inspector iii investigation of a case under subsection 2 or subsection 3 of section 3 shall be completed within a period of thirty days from the date of registration of the first information report iv in every inquiry or trial of a case under sub section 2 or subsection 3 of section 3 the proceedings shall be held as expeditiously as possible and in particular when the examination of witnesses has once begun the same shall be continued from day to day until all the witnessed in attendance have been examined unless the court finds the adjournment of the same beyond the following day to be necessary for reasons to be recorded and an endeavor shall be made to ensure that the inquiry or trial is concluded within a period of one year provided that where the trial is not concluded within the said period the judge shall record the reasons for not having done so provided further that the said period may be extended by such further period for reasons to be recorded in writing but not exceeding six months at a time\n",
            "11 0.1414213562373095 composition of certain offences  where a person is prosecuted for committing an offence punishable under subsection 2 of section 3 such offence may with the permission of the court be compounded by the person against whom such act of violence is committed\n",
            "12 0.7999999999999998 presumption as to certain offences where a person is prosecuted for committing an offence punishable under subsection 3 of section 3 the court shall presume that such person has committed such offence unless the contrary is proved\n",
            "13 0.1414213562373095 presumption of culpable mental state 1 in any prosecution for an offence under subsection 3 of section 3 which requires a culpable mental state on the part of the accused the court shall presume the existence of such mental state but it shall be a defence for the accused to prove the fact that he had no such mental state with respect to the act charged as an offence in that prosecution\n",
            "14 0.9997296931968458 2 for the purposes of this section a fact is said to be proved only when the court believes it to exist beyond reasonable doubt and not merely when its existenc e is established by a preponderance of probability\n",
            "15 0.9999999999999999 explanation in this section culpable mental state includes intention motive knowledge of a fact and the belief in or reason to believe a fact\n",
            "16 0.7999999999999998 compensation for acts of violence 1 in addition to the punishment provided for an offence under subsection 2 or subsection 3 of section 3 the person so convicted shall also be liable to pay by way of compensation such amount as may be determined by the court for causing hurt or grievous hurt to any healthcare service personnel\n",
            "17 0.7999999999999998 2 notwithstanding the composition of an offence under section 3b in case of damage to any property or loss caused the compensation payable shall be twice the amount of fair market value of the damaged property or t he loss caused as may be determined by the court\n",
            "18 0.1414213562373095 3 upon failure to pay the compensation awarded under subsections 1 and 2 such amount shall be recovered as an arrear of land revenue under the revenue recovery act 1890 1 of 1890\n",
            "19 0.1414213562373095 protection to persons acting under act no suit or other legal proceeding shall lie against any person for anything done or in good faith intended to be done under this act\n",
            "20 0.9930352361170129  5\n"
          ]
        }
      ]
    },
    {
      "cell_type": "code",
      "source": [
        "print(\"Question: \", question)\n",
        "print(\"Answer: \", sentences[index])"
      ],
      "metadata": {
        "colab": {
          "base_uri": "https://localhost:8080/"
        },
        "id": "3WLcaAnVYNlN",
        "outputId": "6164cdc7-dffd-4000-a8c0-9a56f2e60a59"
      },
      "execution_count": null,
      "outputs": [
        {
          "output_type": "stream",
          "name": "stdout",
          "text": [
            "Question:  what does composition of certain offences\n",
            "Answer:  explanation in this section culpable mental state includes intention motive knowledge of a fact and the belief in or reason to believe a fact\n"
          ]
        }
      ]
    },
    {
      "cell_type": "code",
      "source": [],
      "metadata": {
        "id": "rFWF42lqY22x"
      },
      "execution_count": null,
      "outputs": []
    },
    {
      "cell_type": "markdown",
      "source": [
        "# Word2Vec"
      ],
      "metadata": {
        "id": "1aGfs4Q0ZFtz"
      }
    },
    {
      "cell_type": "markdown",
      "source": [
        "\n",
        "\n",
        "In these appproch we takes input of large corpus words and produces a vector space, typically of several hundreds dimensions, with each unique word in the corpus being assigned a corresponding vector in the space.\n",
        "\n",
        "Word vectors are positioned in the vector space such that words that share common contexts in the corpus are located in close proximity to one another in the space. Word2Vec is a particularly computationally-efficient predictive model for learning word embeddings from raw text.\n",
        "\n",
        "Working\n",
        "\n",
        "Word2Vec is a simple neural network with a single hidden layer, and like all neural networks, it has weights, and during training, its goal is to adjust those weights to reduce a loss function. However, Word2Vec is not going to be used for the task it was trained on, instead, we will just take its hidden weights, use them as our word embeddings, and toss the rest of the model (this came out a little bit evil).\n"
      ],
      "metadata": {
        "id": "dynEm87GFNrV"
      }
    },
    {
      "cell_type": "code",
      "source": [
        "from gensim.models import Word2Vec\n",
        "import gensim.downloader as api\n",
        "\n",
        "v2w_model = None\n",
        "try:\n",
        "  v2w_model = gensim.models.Keyedvectors.load('./w2vecmodel.mod')\n",
        "  print(\"w2v Model Successfully loaded\")\n",
        "except:\n",
        "  v2w_model = api.load('word2vec-google-news-300')\n",
        "  v2w_model.save(\"./w2vecmodel.mod\")\n",
        "  print(\"w2v Model Saved\")\n",
        "\n",
        "w2vec_embedding_size = len(v2w_model['pc'])"
      ],
      "metadata": {
        "id": "hSnpg8hKZJAG",
        "colab": {
          "base_uri": "https://localhost:8080/"
        },
        "outputId": "4ca87905-1083-478a-a97b-e8a94c68cbb3"
      },
      "execution_count": null,
      "outputs": [
        {
          "output_type": "stream",
          "name": "stdout",
          "text": [
            "w2v Model Saved\n"
          ]
        }
      ]
    },
    {
      "cell_type": "code",
      "source": [
        "\n",
        "def getWordVec(word, model):\n",
        "  samp = model['pc']\n",
        "  vec = [0]*len(samp)\n",
        "  try:\n",
        "    vec = model[word]\n",
        "  except:\n",
        "    vec = [0]*len(samp)\n",
        "  return (vec)\n",
        "\n",
        "\n",
        "def getPhraseEmbedding(phrase, embeddingmodel):\n",
        "  samp = getWordVec('computer', embeddingmodel)\n",
        "  vec = numpy.array([0]*len(samp))\n",
        "  den = 0;\n",
        "  for word in phrase.split():\n",
        "    den = den+1\n",
        "    vec = vec+numpy.array(getWordVec(word, embeddingmodel))\n",
        "  return vec.reshape(1, -1)"
      ],
      "metadata": {
        "id": "QpT9BBq2FSCr"
      },
      "execution_count": null,
      "outputs": []
    },
    {
      "cell_type": "code",
      "source": [
        "sent_embeddings = []\n",
        "for sent in sentences:\n",
        "  sent_embeddings.append(getPhraseEmbedding(sent, v2w_model))\n",
        "\n",
        "question_embedding = getPhraseEmbedding(question, v2w_model)\n",
        "index = retrieveAndPrintFAQAnswer(question_embedding, sent_embeddings, cleaned_sentences_with_stopwords)"
      ],
      "metadata": {
        "colab": {
          "base_uri": "https://localhost:8080/"
        },
        "id": "lUx0dP3RFR_P",
        "outputId": "337f645f-aa94-46b4-c64c-67dd73682017"
      },
      "execution_count": null,
      "outputs": [
        {
          "output_type": "stream",
          "name": "stdout",
          "text": [
            "0 0.3482360077532799 an act to provide for the better prevention of the spread of dangerous epidemic diseases\n",
            "1 0.510391216300243 whereas it is expedient to provide for the better prevention of the spread of dangerous epidemic disease it is hereby enacted as follows    short title and extent 1 this act may be called the epidemic diseases act 1897\n",
            "2 0.5130002770383422 2 2 it extends to the whole of india 3 4   5     definitions in this unless the context otherwise requires    6 a act of violence includes any of the following acts committed by any person against a healthcare service personnel serving during an epidemic which causes or may cause   i harassment impacting the living or working conditions of such healthcare service personnel and preventing him from discharging his duties ii harm injury hurt intimidation or danger to the life of such healthcare service personnel either within the premises of a clinical establishment or otherwise iii obstruction or hindrance to such healthcare service personnel in the discharge of his duties either within the premises of a clinical establishment or otherwise or iv loss or damage to any property or documents in the custody of or in relation to such healthcare service personnel b healthcare service personnel means a person who while carrying out his duties in relation to epidemic related responsibilities may come in direct contact with affected patients and thereby is at the risk of being impacted by suc h disease and includes  i any public and clinical healthcare provider such as doctor nurse paramedical worker and community health worker ii any other person empowered under the act to take measures to prevent the outbreak of the disease or spread thereof and iii any person declared as such by the state government by notification in the official gazette c property includes  i a clinical establishment as defined in the clinical establishments registration and regulation act 2010 23 of 2010 ii any facility identified for quarantine and isolation of patients during an epidemic iii a mobile medical unit and iv any other property in which a healthcare service personnel has direct interest in relating to the epidemic d the words and expressions used herein and not defined but defined in the indian ports act 1908 15 of 1908 the aircraft act 1934 22 of 1934 or the land ports authority of india act 2010 31 of 2010 as the case may be shall have the same meaning as assign ed to them in that act\n",
            "3 0.5619581708022059 1  power to take special measures and prescribe regulations as to dangerous epidemic disease 1 when at any time the 2state government is satisfied that 2the state or any part thereof is visited by or threatened with an outbreak of any dangerous epidemic disease the 3state government if 4it thinks that the ordinary provisions of the law for the time being in force are insufficient for the purpose may take or require or empower any person to take such measures and by public notice prescribe such temporary regulations to be observed by the public or by any person or class of persons as 4it shall deem necessary to prevent the outbreak of such disease or the spread thereof and may determine in what manner and by whom any expenses incurred including compensation if any shall be defrayed\n",
            "4 0.4665612471270378 2 in particular and without prejudice to the generality of the foregoing provisions the 2state government may take measures and prescribe regulations for  5      b the inspection of persons travelling by railway or otherwise and the segregation in hospital temporary accommodation or otherwise of persons suspected by the inspecting officer of being infected with any such disease\n",
            "5 0.5486015446933133 6     7   powers of central government when the central government is satisfied that india or any part thereof is visited by or threatened with an outbrea k of any dangerous epidemic disease and that the ordinary provisions of the law for the time being in force are insufficient to prevent the outbreak of such disease or the spread thereof 8the central government may take such measures as it deems fit and prescribe regulations for the inspection of any bus o r train or goods vehicle or ship or vessel or aircraft leaving or arriving at any land port or aerodrome as the case may be in the territories to which this act extends and for such detention thereof or of any person intending to travel therein or arriving thereby as may be necessary\n",
            "6 0.4261778417747611 1  prohibition of violence against healthcare service personnel and damage to property no person shall indulge in any act of violence against a healthcare service personnel or cause any damage or loss to any property during an epidemic\n",
            "7 0.4299920141953032 penalty  21 any person disobeying any regulation or order made under this act shall be deemed to have committed an offence punishable under section 188 of the indian penal code 45 of 1860\n",
            "8 0.4836963265795592 3 2 whoever  i commits or abets the commission of an act of violence against a healthcare service personnel or ii abets or cause damage or loss to any property shall be punished with imprisonment for a term which shall not be less than three months but which may extend to five years and with fine which shall not be less than fifty thousand rupees but which may extend to two lakh rupees\n",
            "9 0.4652671010378467 3 whoever while committing an act of violence against a healthcare service personnel causes grievous hurt as defined in section 320 of the indian penal code 45 of 1860 to such person shall be punished with imprisonment for a term which shall not be less than six months but which may extend to seven years and with fine which shall not be less than one lakh rupees but which may extend to five lakh rupees\n",
            "10 0.49998637220157544 4  cognizance investigation and trial of offences  notwithstanding anything contained in the code of criminal procedure 1973 2 of 1974   i an offence punishable under subsection 2 or subsection 3 of section 3 shall be cognizable and nonbailable ii any case registered under subsection 2 or subsection 3 of section 3 shall be investigated by a police officer not below the rank of inspector iii investigation of a case under subsection 2 or subsection 3 of section 3 shall be completed within a period of thirty days from the date of registration of the first information report iv in every inquiry or trial of a case under sub section 2 or subsection 3 of section 3 the proceedings shall be held as expeditiously as possible and in particular when the examination of witnesses has once begun the same shall be continued from day to day until all the witnessed in attendance have been examined unless the court finds the adjournment of the same beyond the following day to be necessary for reasons to be recorded and an endeavor shall be made to ensure that the inquiry or trial is concluded within a period of one year provided that where the trial is not concluded within the said period the judge shall record the reasons for not having done so provided further that the said period may be extended by such further period for reasons to be recorded in writing but not exceeding six months at a time\n",
            "11 0.5149143523307553 composition of certain offences  where a person is prosecuted for committing an offence punishable under subsection 2 of section 3 such offence may with the permission of the court be compounded by the person against whom such act of violence is committed\n",
            "12 0.48864073204460073 presumption as to certain offences where a person is prosecuted for committing an offence punishable under subsection 3 of section 3 the court shall presume that such person has committed such offence unless the contrary is proved\n",
            "13 0.5115469722979865 presumption of culpable mental state 1 in any prosecution for an offence under subsection 3 of section 3 which requires a culpable mental state on the part of the accused the court shall presume the existence of such mental state but it shall be a defence for the accused to prove the fact that he had no such mental state with respect to the act charged as an offence in that prosecution\n",
            "14 0.5689867376071447 2 for the purposes of this section a fact is said to be proved only when the court believes it to exist beyond reasonable doubt and not merely when its existenc e is established by a preponderance of probability\n",
            "15 0.5170063652776545 explanation in this section culpable mental state includes intention motive knowledge of a fact and the belief in or reason to believe a fact\n",
            "16 0.47980785420972166 compensation for acts of violence 1 in addition to the punishment provided for an offence under subsection 2 or subsection 3 of section 3 the person so convicted shall also be liable to pay by way of compensation such amount as may be determined by the court for causing hurt or grievous hurt to any healthcare service personnel\n",
            "17 0.5417645501717647 2 notwithstanding the composition of an offence under section 3b in case of damage to any property or loss caused the compensation payable shall be twice the amount of fair market value of the damaged property or t he loss caused as may be determined by the court\n",
            "18 0.4068092017794204 3 upon failure to pay the compensation awarded under subsections 1 and 2 such amount shall be recovered as an arrear of land revenue under the revenue recovery act 1890 1 of 1890\n",
            "19 0.572775048717731 protection to persons acting under act no suit or other legal proceeding shall lie against any person for anything done or in good faith intended to be done under this act\n",
            "20 0.09558982643316041  5\n"
          ]
        }
      ]
    },
    {
      "cell_type": "code",
      "source": [
        "print(\"Question: \", question)\n",
        "print(\"Answer: \", cleaned_sentences_with_stopwords[index])"
      ],
      "metadata": {
        "id": "xdl0GJoOFR8m",
        "colab": {
          "base_uri": "https://localhost:8080/"
        },
        "outputId": "637cfef5-4d3f-475b-d580-2624541f3922"
      },
      "execution_count": null,
      "outputs": [
        {
          "output_type": "stream",
          "name": "stdout",
          "text": [
            "Question:  what does composition of certain offences\n",
            "Answer:  protection to persons acting under act no suit or other legal proceeding shall lie against any person for anything done or in good faith intended to be done under this act\n"
          ]
        }
      ]
    },
    {
      "cell_type": "code",
      "source": [],
      "metadata": {
        "id": "4zC95rLjZMa6"
      },
      "execution_count": null,
      "outputs": []
    },
    {
      "cell_type": "code",
      "source": [],
      "metadata": {
        "id": "26dphTfSZQse"
      },
      "execution_count": null,
      "outputs": []
    }
  ]
}